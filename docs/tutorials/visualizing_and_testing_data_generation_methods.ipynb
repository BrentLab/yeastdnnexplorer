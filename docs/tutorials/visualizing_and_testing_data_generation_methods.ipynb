{
 "cells": [
  {
   "cell_type": "markdown",
   "metadata": {},
   "source": [
    "# **Visualizing and Testing Data Generation Methods**\n",
    "In this notebook, we will run an experiment to display the average perturbation effect values that we generate with the 4 different methods we have for perturbation effect generation (other than the method for generating the perturbation effect values, we will be holding everything else the same). \n",
    "\n",
    "Recall that we have 4 methods for generating perturbation effect data (see `generate_in_silico_data.ipynb` for more information on these):\n",
    "1. No Mean Adjustment\n",
    "2. Standard Mean Adjustment\n",
    "3. Mean adjustment dependent on all TFs bound to gene in question\n",
    "4. Mean adjustment dependent on binary relationships between bound and unbound TFs to gene in question.\n",
    "\n",
    "After understanding what the generated data looks like for each of these methods, we will perform another experiment where we train the same model on data generated with each of these methods and compare the model's performance to a simple linear model."
   ]
  },
  {
   "cell_type": "code",
   "execution_count": 4,
   "metadata": {},
   "outputs": [
    {
     "name": "stderr",
     "output_type": "stream",
     "text": [
      "Seed set to 42\n"
     ]
    },
    {
     "data": {
      "text/plain": [
       "42"
      ]
     },
<<<<<<< HEAD
<<<<<<< HEAD
     "execution_count": 1,
=======
     "execution_count": 4,
>>>>>>> 3daab84 (added docstring and typehinting to all methods, and added exposition to better explain the different conditions we use the model in. TODO: need to hide some of the output when training models or create an issue if I am unable to do so.)
=======
     "execution_count": 1,
>>>>>>> 9abd1df8ced976479d07c9ca30170044b95b9b3b
     "metadata": {},
     "output_type": "execute_result"
    }
   ],
   "source": [
    "# imports\n",
    "from yeastdnnexplorer.probability_models.generate_data import (\n",
    "    generate_gene_population, \n",
    "    generate_binding_effects, \n",
    "    generate_pvalues, \n",
    "    generate_perturbation_effects\n",
    ")\n",
<<<<<<< HEAD
<<<<<<< HEAD
=======
    "\n",
    "from yeastdnnexplorer.probability_models.util import (\n",
    "    calculate_explained_variance\n",
    ")\n",
>>>>>>> 3daab84 (added docstring and typehinting to all methods, and added exposition to better explain the different conditions we use the model in. TODO: need to hide some of the output when training models or create an issue if I am unable to do so.)
=======
>>>>>>> 9abd1df8ced976479d07c9ca30170044b95b9b3b
    "\n",
    "import torch\n",
    "import matplotlib.pyplot as plt\n",
    "\n",
    "from yeastdnnexplorer.probability_models.relation_classes import Relation, And, Or\n",
    "from yeastdnnexplorer.probability_models.generate_data import (\n",
    "    default_perturbation_effect_adjustment_function,\n",
    "    perturbation_effect_adjustment_function_with_tf_relationships,\n",
    "    perturbation_effect_adjustment_function_with_tf_relationships_boolean_logic\n",
    ")\n",
    "\n",
    "from pytorch_lightning import Trainer, seed_everything\n",
    "from torch.utils.data import DataLoader, TensorDataset\n",
    "from sklearn.metrics import explained_variance_score\n",
    "\n",
    "from yeastdnnexplorer.data_loaders.synthetic_data_loader import SyntheticDataLoader\n",
    "from yeastdnnexplorer.ml_models.simple_model import SimpleModel\n",
    "from yeastdnnexplorer.ml_models.customizable_model import CustomizableModel\n",
    "from typing import Tuple, List, Dict, Union\n",
    "\n",
    "seed_everything(42)"
   ]
  },
  {
   "cell_type": "markdown",
   "metadata": {},
   "source": [
    "## **Generating the Data**"
   ]
  },
  {
   "cell_type": "markdown",
   "metadata": {},
   "source": [
    "## **Generating the Data**"
   ]
  },
  {
   "cell_type": "markdown",
   "metadata": {},
   "source": [
    "Generating the binding data will be the same as always, see `generate_in_silico_data.ipynb`"
   ]
  },
  {
   "cell_type": "code",
   "execution_count": 5,
   "metadata": {},
   "outputs": [],
   "source": [
    "n_genes = 3000\n",
<<<<<<< HEAD
=======
    "\n",
>>>>>>> 9abd1df8ced976479d07c9ca30170044b95b9b3b
    "bound = [0.5, 0.5, 0.5, 0.5, 0.5]\n",
    "n_sample = [1, 1, 2, 2, 4]\n",
    "\n",
    "# Generate gene populations\n",
    "gene_populations_list = []\n",
    "for bound_proportion, n_draws in zip(bound, n_sample):\n",
    "    for _ in range(n_draws):\n",
    "        gene_populations_list.append(generate_gene_population(n_genes, bound_proportion))\n",
    "        \n",
    "# Generate binding data for each gene population\n",
    "binding_effect_list = [generate_binding_effects(gene_population) for gene_population in gene_populations_list]\n",
    "\n",
    "# Calculate p-values for binding data\n",
    "binding_pvalue_list = [generate_pvalues(binding_data) for binding_data in binding_effect_list]\n",
    "\n",
    "# Combine binding data into a tensor\n",
    "binding_data_combined = [torch.stack((gene_population.labels, binding_effect, binding_pval), dim=1)\n",
    "                         for gene_population, binding_effect, binding_pval in zip(gene_populations_list, binding_effect_list, binding_pvalue_list)]\n",
    "binding_data_tensor = torch.stack(binding_data_combined, dim=1)"
   ]
  },
  {
   "cell_type": "markdown",
   "metadata": {},
   "source": [
    "Now we define our experiment, this function will return the average perturbation effects (across n_iterations iterations) for each TF for a specific gene for each of the 4 data generation method we have at our disposal. Due to the randomness in the generated data, we need to find the averages over a number of iterations to get the true common values.\n",
    "\n",
    "We also need to define dictionaries of TF relationships for our third and fourth methods of generating perturbation data, see generate_in_silico_data.ipynb for an explanation of what these represent and how they are used / structured. The documentation in generate_data.py may be helpful as well."
   ]
  },
  {
   "cell_type": "code",
<<<<<<< HEAD
<<<<<<< HEAD
   "execution_count": 11,
=======
   "execution_count": 6,
>>>>>>> 3daab84 (added docstring and typehinting to all methods, and added exposition to better explain the different conditions we use the model in. TODO: need to hide some of the output when training models or create an issue if I am unable to do so.)
=======
   "execution_count": 11,
>>>>>>> 9abd1df8ced976479d07c9ca30170044b95b9b3b
   "metadata": {},
   "outputs": [],
   "source": [
    "# TF relationships\n",
<<<<<<< HEAD
<<<<<<< HEAD
    "tf_relationships_dict = {\n",
=======
    "tf_relationships = {\n",
>>>>>>> 3daab84 (added docstring and typehinting to all methods, and added exposition to better explain the different conditions we use the model in. TODO: need to hide some of the output when training models or create an issue if I am unable to do so.)
=======
    "tf_relationships_dict = {\n",
>>>>>>> 9abd1df8ced976479d07c9ca30170044b95b9b3b
    "    0: [1],\n",
    "    1: [8],\n",
    "    2: [5, 6],\n",
    "    3: [4],\n",
    "    4: [5],\n",
    "    5: [9],\n",
    "    6: [4],\n",
    "    7: [1, 4],\n",
    "    8: [6],\n",
    "    9: [4],\n",
    "}\n",
    "\n",
    "# TF relationships that incorporate boolean logic; this is more complex than\n",
    "# the simple relationships above  as it implements \"and\" and \"or\" operations\n",
    "tf_relationships_dict_boolean_logic = {\n",
    "    0: [And(3, 4, 8), Or(3, 7), Or(1, 1)],\n",
    "    1: [And(5, Or(7, 8))],\n",
    "    2: [],\n",
    "    3: [Or(7, 9), And(6, 7)],\n",
    "    4: [And(1, 2)],\n",
    "    5: [Or(0, 1, 2, 8, 9)],\n",
    "    6: [And(0, Or(1, 2))],\n",
    "    7: [Or(2, And(5, 6, 9))],\n",
    "    8: [],\n",
    "    9: [And(6, And(3, Or(0, 9)))],\n",
    "}\n",
    "\n",
    "def experiment(n_iterations: int = 10, GENE_IDX: int = 0) -> Tuple[torch.Tensor, torch.Tensor, torch.Tensor, torch.Tensor]:\n",
    "    \"\"\"\n",
    "    Conducts an experiment by generating perturbation effects for a specific gene over multiple iterations\n",
    "    using different methods and averaging the results.\n",
<<<<<<< HEAD
<<<<<<< HEAD
=======
>>>>>>> 9abd1df8ced976479d07c9ca30170044b95b9b3b
    "    \n",
    "    :param n_iterations: Number of iterations to perform.\n",
    "    :type n_iterations: int\n",
    "    :param GENE_IDX: Index of the gene to analyze.\n",
    "    :type GENE_IDX: int\n",
    "\n",
    "    :returns: A tuple containing averaged perturbation effects scores for each method.\n",
    "    :rtype: Tuple[torch.Tensor, torch.Tensor, torch.Tensor, torch.Tensor]\n",
<<<<<<< HEAD
=======
    "\n",
    "    Params:\n",
    "    n_iterations (int): Number of iterations to perform.\n",
    "    GENE_IDX (int): Index of the gene to analyze.\n",
    "\n",
    "    Returns:\n",
    "    Tuple[torch.Tensor, torch.Tensor, torch.Tensor, torch.Tensor]: Averaged perturbation effects scores for each method.\n",
>>>>>>> 3daab84 (added docstring and typehinting to all methods, and added exposition to better explain the different conditions we use the model in. TODO: need to hide some of the output when training models or create an issue if I am unable to do so.)
=======
>>>>>>> 9abd1df8ced976479d07c9ca30170044b95b9b3b
    "    \"\"\"\n",
    "    print(\"Bound (1) and Unbound (0) Labels for gene \" + str(GENE_IDX) + \":\")\n",
    "    print(binding_data_tensor[GENE_IDX, :, 0])\n",
    "\n",
    "    num_tfs = sum(n_sample)\n",
    "    \n",
    "    no_mean_adjustment_scores = torch.zeros(num_tfs)\n",
    "    normal_mean_adjustment_scores = torch.zeros(num_tfs)\n",
    "    dep_mean_adjustment_scores = torch.zeros(num_tfs)\n",
    "    boolean_logic_scores = torch.zeros(num_tfs)\n",
    "\n",
    "    for i in range(n_iterations):\n",
    "        # Method 1: Generate perturbation effects without mean adjustment\n",
    "        perturbation_effects_list_no_mean_adjustment = [generate_perturbation_effects(binding_data_tensor[:, tf_index, :].unsqueeze(1), tf_index=0) \n",
    "                                                        for tf_index in range(num_tfs)]\n",
    "        perturbation_effects_list_no_mean_adjustment = torch.stack(perturbation_effects_list_no_mean_adjustment, dim=1)\n",
    "\n",
    "        # Method 2: Generate perturbation effects with normal mean adjustment\n",
    "        perturbation_effects_list_normal_mean_adjustment = generate_perturbation_effects(\n",
    "            binding_data_tensor, \n",
    "            max_mean_adjustment=10.0\n",
    "        )\n",
    "\n",
    "        # Method 3: Generate perturbation effects with dependent mean adjustment\n",
    "        perturbation_effects_list_dep_mean_adjustment = generate_perturbation_effects(\n",
    "            binding_data_tensor, \n",
    "            tf_relationships=tf_relationships,\n",
    "            adjustment_function=perturbation_effect_adjustment_function_with_tf_relationships,\n",
    "            max_mean_adjustment=10.0,\n",
    "        )\n",
    "        \n",
    "        # Method 4: Generate perturbation effects with binary relations between the TFs\n",
    "        perturbation_effects_list_boolean_logic = generate_perturbation_effects(\n",
    "            binding_data_tensor, \n",
    "            adjustment_function=perturbation_effect_adjustment_function_with_tf_relationships_boolean_logic,\n",
    "            tf_relationships=tf_relationships_dict_boolean_logic,\n",
    "            max_mean_adjustment=10.0,\n",
    "        )\n",
    "\n",
    "        no_mean_adjustment_scores += abs(perturbation_effects_list_no_mean_adjustment[GENE_IDX, :])\n",
    "        normal_mean_adjustment_scores += abs(perturbation_effects_list_normal_mean_adjustment[GENE_IDX, :])\n",
    "        dep_mean_adjustment_scores += abs(perturbation_effects_list_dep_mean_adjustment[GENE_IDX, :])\n",
    "        boolean_logic_scores += abs(perturbation_effects_list_boolean_logic[GENE_IDX, :])\n",
    "\n",
    "        if (i + 1) % 5 == 0:\n",
    "            print(f\"iteration {i+1} completed\")\n",
    "        \n",
    "    no_mean_adjustment_scores /= n_iterations\n",
    "    normal_mean_adjustment_scores /= n_iterations\n",
    "    dep_mean_adjustment_scores /= n_iterations\n",
    "    boolean_logic_scores /= n_iterations\n",
    "    \n",
<<<<<<< HEAD
    "    return no_mean_adjustment_scores, normal_mean_adjustment_scores, dep_mean_adjustment_scores, boolean_logic_scores"
<<<<<<< HEAD
=======
    "    return no_mean_adjustment_scores, normal_mean_adjustment_scores, dep_mean_adjustment_scores, boolean_logic_scores\n"
>>>>>>> 3daab84 (added docstring and typehinting to all methods, and added exposition to better explain the different conditions we use the model in. TODO: need to hide some of the output when training models or create an issue if I am unable to do so.)
=======
>>>>>>> 9abd1df8ced976479d07c9ca30170044b95b9b3b
   ]
  },
  {
   "cell_type": "code",
<<<<<<< HEAD
   "execution_count": 7,
=======
   "execution_count": 4,
>>>>>>> 9abd1df8ced976479d07c9ca30170044b95b9b3b
   "metadata": {},
   "outputs": [
    {
     "name": "stdout",
     "output_type": "stream",
     "text": [
      "Bound (1) and Unbound (0) Labels for gene 0:\n",
      "tensor([0., 0., 0., 1., 1., 1., 1., 1., 0., 1.])\n",
      "iteration 5 completed\n",
      "iteration 10 completed\n",
      "iteration 15 completed\n",
      "iteration 20 completed\n",
      "iteration 25 completed\n",
      "iteration 30 completed\n",
      "iteration 35 completed\n",
      "iteration 40 completed\n",
      "iteration 45 completed\n",
      "iteration 50 completed\n"
     ]
    }
   ],
   "source": [
    "GENE_IDX = 0\n",
    "experiment_results = experiment(n_iterations=50, GENE_IDX=GENE_IDX)"
   ]
  },
  {
   "cell_type": "markdown",
   "metadata": {},
   "source": [
<<<<<<< HEAD
<<<<<<< HEAD
=======
>>>>>>> 9abd1df8ced976479d07c9ca30170044b95b9b3b
    "## **Visualizing the Results**"
   ]
  },
  {
   "cell_type": "markdown",
   "metadata": {},
   "source": [
<<<<<<< HEAD
=======
>>>>>>> 3daab84 (added docstring and typehinting to all methods, and added exposition to better explain the different conditions we use the model in. TODO: need to hide some of the output when training models or create an issue if I am unable to do so.)
=======
>>>>>>> 9abd1df8ced976479d07c9ca30170044b95b9b3b
    "Now we plot our results."
   ]
  },
  {
   "cell_type": "code",
<<<<<<< HEAD
   "execution_count": 8,
=======
   "execution_count": 5,
>>>>>>> 9abd1df8ced976479d07c9ca30170044b95b9b3b
   "metadata": {},
   "outputs": [
    {
     "name": "stdout",
     "output_type": "stream",
     "text": [
      "Bound (bound) TFs for gene 0 are: [3, 4, 5, 6, 7, 9]\n",
      "Unbound (unbound) TFs for gene 0 are: [0, 1, 2, 8]\n",
      "tensor([0., 0., 0., 1., 1., 1., 1., 1., 0., 1.])\n"
     ]
    },
    {
     "data": {
<<<<<<< HEAD
<<<<<<< HEAD
      "image/png": "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",
=======
      "image/png": "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",
>>>>>>> 3daab84 (added docstring and typehinting to all methods, and added exposition to better explain the different conditions we use the model in. TODO: need to hide some of the output when training models or create an issue if I am unable to do so.)
=======
      "image/png": "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",
>>>>>>> 9abd1df8ced976479d07c9ca30170044b95b9b3b
      "text/plain": [
       "<Figure size 1000x600 with 1 Axes>"
      ]
     },
     "metadata": {},
     "output_type": "display_data"
    }
   ],
   "source": [
    "x_vals = list(range(sum(n_sample)))\n",
    "print(\"Bound (bound) TFs for gene \" + str(GENE_IDX) + \" are: \" + str(binding_data_tensor[GENE_IDX, :, 0].nonzero().flatten().tolist()))\n",
    "print(\"Unbound (unbound) TFs for gene \" + str(GENE_IDX) + \" are: \" + str((1 - binding_data_tensor[GENE_IDX, :, 0]).nonzero().flatten().tolist()))\n",
    "print(binding_data_tensor[GENE_IDX, :, 0])\n",
    "plt.figure(figsize=(10, 6))\n",
    "\n",
    "# Plot each set of experiment results with a different color\n",
    "colors = ['red', 'green', 'blue', 'orange']\n",
    "for index, results in enumerate(experiment_results):\n",
    "    plt.scatter(x_vals, results, color=colors[index])\n",
    "\n",
    "plt.title('Pertubation Effects for Gene ' + str(GENE_IDX) + ' with Different Adjustment Functions (averaged across 100 trials)')\n",
    "plt.xlabel('TF Index')\n",
    "plt.ylabel('Perturbation Effect Val')\n",
    "\n",
    "#added to compare this to previous graph, REMOVE LATER\n",
    "plt.ylim(0,9)\n",
    "\n",
    "\n",
    "plt.xticks(x_vals)\n",
    "plt.grid(True)\n",
    "plt.legend(['No Mean Adjustment', 'Normal (non-dependent) Mean Adjust', 'Dependent Mean Adjustment', 'Boolean Logic Adjustment'])\n",
    "plt.show()"
   ]
  },
  {
   "cell_type": "markdown",
   "metadata": {},
   "source": [
    "The x-axis labels represent the corresponding TFs whose perturbation effect values are being plotted on the y-axis. The color of each plotted point indicates which of the four data generation methods it was derived from. For example, based on the legend included in the graph, a red point was generated using no mean adjustment. This graph allows us to visualize the perturbation effects for the same TF under a variety of conditions.\n",
    "\n",
    "Recall that for the dependent mean adjustment, the TF in question must be bound and all of the TFs in its dependency array (in the tf_relationships dictionary) must be bound as well. This is why we do not adjust the mean for TF 7 despite it being bound, it depends on TF 1 and TF 4 both being bound, and TF1 is not bound.\n",
    "\n",
    "Similarly, for the boolean logic adjustment, we do not adjust the mean for 6 despite it being bound because it depends on (TF0 && (TF1 || TF2)) being bound, and none of those 3 TFs are bound to the gene we are studying.\n",
    "\n",
    "Note that if you change GENE_IDX, the random seed, or any of the relationship dictionaris that this explanation will no longer apply to the data you are seeing in the plot."
   ]
  },
  {
   "cell_type": "markdown",
   "metadata": {},
   "source": [
<<<<<<< HEAD
<<<<<<< HEAD
    "## **Training models on data generated from the 4 different methods**\n",
=======
    "## Training models on data generated from the 4 different methods\n",
>>>>>>> 3daab84 (added docstring and typehinting to all methods, and added exposition to better explain the different conditions we use the model in. TODO: need to hide some of the output when training models or create an issue if I am unable to do so.)
=======
    "## **Training models on data generated from the 4 different methods**\n",
>>>>>>> 9abd1df8ced976479d07c9ca30170044b95b9b3b
    "In the next experiment, we will be training the exact same model on data generated from each of these 4 methods. We will also train a simple linear model on all four methods to use as a baseline to compare to. Other than the method used to generate the data, everything else will be held the same. We define a few helper functions to run our experiment. We make helper functions for things that will mostly be the same across each training loop so that we don't have to keep redefining them."
   ]
  },
  {
   "cell_type": "code",
<<<<<<< HEAD
   "execution_count": null,
=======
   "execution_count": 6,
>>>>>>> 9abd1df8ced976479d07c9ca30170044b95b9b3b
   "metadata": {},
   "outputs": [],
   "source": [
<<<<<<< HEAD
    "# define checkpoints and loggers\n",
    "best_model_checkpoint = ModelCheckpoint(\n",
    "    monitor=\"val_explained_variance\",\n",
    "    mode=\"min\",\n",
    "    filename=\"best-model-{epoch:02d}-{val_loss:.2f}\",\n",
    "    save_top_k=1,\n",
    ")\n",
    "\n",
    "    :param max_mean_adjustment: Maximum mean adjustment value.\n",
    "    :type max_mean_adjustment: float\n",
    "    :param adjustment_function: Function to adjust perturbation effects.\n",
    "    :type adjustment_function: callable\n",
    "    :param tf_relationships_dict: Dictionary of transcription factor relationships.\n",
    "    :type tf_relationships_dict: Dict[str, Union[List[int], float]]\n",
    "\n",
    "    :returns: Configured data loader for synthetic data.\n",
    "    :rtype: SyntheticDataLoader\n",
<<<<<<< HEAD
=======
    "def get_data_module(max_mean_adjustment: float, adjustment_function=default_perturbation_effect_adjustment_function, tf_relationships_dict: Dict[str, Union[List[int], float]] = {}) -> SyntheticDataLoader:\n",
    "    \"\"\"\n",
    "    Creates a data loader module for synthetic data.\n",
    "\n",
    "    Params:\n",
    "    max_mean_adjustment (float): Maximum mean adjustment value.\n",
    "    adjustment_function (callable): Function to adjust perturbation effects.\n",
    "    tf_relationships_dict (Dict[str, Union[List[int], float]]): Dictionary of transcription factor relationships.\n",
    "\n",
    "    Returns:\n",
    "    SyntheticDataLoader: Configured data loader for synthetic data.\n",
>>>>>>> 3daab84 (added docstring and typehinting to all methods, and added exposition to better explain the different conditions we use the model in. TODO: need to hide some of the output when training models or create an issue if I am unable to do so.)
=======
>>>>>>> 9abd1df8ced976479d07c9ca30170044b95b9b3b
    "    \"\"\"\n",
    "    return SyntheticDataLoader(\n",
    "        batch_size=32,\n",
    "        num_genes=4000,\n",
    "        bound_mean=3.0,\n",
    "        bound=[0.5] * 5,\n",
<<<<<<< HEAD
    "        n_sample=[1, 1, 2, 2, 4],\n",
=======
    "        n_sample=[1, 1, 2, 2, 4],  # sum of this is num of tfs\n",
>>>>>>> 9abd1df8ced976479d07c9ca30170044b95b9b3b
    "        val_size=0.1,\n",
    "        test_size=0.1,\n",
    "        random_state=42,\n",
    "        max_mean_adjustment=max_mean_adjustment,\n",
    "        adjustment_function=adjustment_function,\n",
    "        tf_relationships=tf_relationships_dict,\n",
    "    )\n",
    "\n",
    "def get_model(num_tfs: int) -> CustomizableModel:\n",
    "    \"\"\"\n",
    "    Creates a customizable model.\n",
    "\n",
<<<<<<< HEAD
<<<<<<< HEAD
=======
>>>>>>> 9abd1df8ced976479d07c9ca30170044b95b9b3b
    "    :param num_tfs: Number of transcription factors.\n",
    "    :type num_tfs: int\n",
    "\n",
    "    :returns: Configured model.\n",
    "    :rtype: CustomizableModel\n",
<<<<<<< HEAD
=======
    "    Params:\n",
    "    num_tfs (int): Number of transcription factors.\n",
    "\n",
    "    Returns:\n",
    "    CustomizableModel: Configured model.\n",
>>>>>>> 3daab84 (added docstring and typehinting to all methods, and added exposition to better explain the different conditions we use the model in. TODO: need to hide some of the output when training models or create an issue if I am unable to do so.)
=======
>>>>>>> 9abd1df8ced976479d07c9ca30170044b95b9b3b
    "    \"\"\"\n",
    "    return CustomizableModel(\n",
    "        input_dim=num_tfs,\n",
    "        output_dim=num_tfs,\n",
    "        lr=0.01,\n",
    "        hidden_layer_num=2,\n",
    "        hidden_layer_sizes=[64, 32],\n",
    "        activation=\"LeakyReLU\",\n",
    "        optimizer=\"RMSprop\",\n",
    "        L2_regularization_term=0.0,\n",
    "        dropout_rate=0.0,\n",
    "    )\n",
    "\n",
    "def get_linear_model(num_tfs: int) -> SimpleModel:\n",
    "    \"\"\"\n",
    "    Creates a simple linear model.\n",
    "\n",
<<<<<<< HEAD
<<<<<<< HEAD
=======
>>>>>>> 9abd1df8ced976479d07c9ca30170044b95b9b3b
    "    :param num_tfs: Number of transcription factors.\n",
    "    :type num_tfs: int\n",
    "\n",
    "    :returns: Configured linear model.\n",
    "    :rtype: SimpleModel\n",
<<<<<<< HEAD
=======
    "    Params:\n",
    "    num_tfs (int): Number of transcription factors.\n",
    "\n",
    "    Returns:\n",
    "    SimpleModel: Configured linear model.\n",
>>>>>>> 3daab84 (added docstring and typehinting to all methods, and added exposition to better explain the different conditions we use the model in. TODO: need to hide some of the output when training models or create an issue if I am unable to do so.)
=======
>>>>>>> 9abd1df8ced976479d07c9ca30170044b95b9b3b
    "    \"\"\"\n",
    "    return SimpleModel(\n",
    "        input_dim=num_tfs,\n",
    "        output_dim=num_tfs,\n",
    "        lr=0.01\n",
    "    )\n",
    "\n",
    "def get_trainer() -> Trainer:\n",
    "    \"\"\"\n",
    "    Creates a trainer for model training.\n",
    "\n",
<<<<<<< HEAD
<<<<<<< HEAD
    "    :returns: Configured trainer.\n",
    "    :rtype: Trainer\n",
=======
    "    Returns:\n",
    "    Trainer: Configured trainer.\n",
>>>>>>> 3daab84 (added docstring and typehinting to all methods, and added exposition to better explain the different conditions we use the model in. TODO: need to hide some of the output when training models or create an issue if I am unable to do so.)
=======
    "    :returns: Configured trainer.\n",
    "    :rtype: Trainer\n",
>>>>>>> 9abd1df8ced976479d07c9ca30170044b95b9b3b
    "    \"\"\"\n",
    "    return Trainer(\n",
    "        max_epochs=10,\n",
    "        deterministic=True,\n",
    "        accelerator=\"cpu\",\n",
<<<<<<< HEAD
<<<<<<< HEAD
=======
>>>>>>> 9abd1df8ced976479d07c9ca30170044b95b9b3b
    "        # The following are turned false to reduce the output in the training cells below. You can toggle them to true to see\n",
    "        # a model summary and training progress if desired \n",
    "        logger=False, \n",
    "        enable_progress_bar=False,  \n",
    "        enable_model_summary=False,  \n",
    "        enable_checkpointing=False  \n",
    "    )\n",
    "\n",
    "def calculate_explained_variance( \n",
    "    model: torch.nn.Module, data_module: DataLoader\n",
    ") -> float:\n",
    "    \"\"\"\n",
    "    Calculates the explained variance of a model's predictions on a test dataset.\n",
    "\n",
    "    :param test_results: List of test results containing the expected outcomes.\n",
    "    :type test_results: List[Union[float, int]]\n",
    "    :param data_module: Data loader for the test dataset.\n",
    "    :type data_module: DataLoader\n",
    "    :param model: The model to evaluate.\n",
    "    :type model: torch.nn.Module\n",
    "\n",
    "    :returns: The explained variance of the model's predictions.\n",
    "    :rtype: float\n",
    "    \"\"\"\n",
    "    predictions = []\n",
    "    targets = []\n",
    "\n",
    "    model.eval()  # Set the model to evaluation mode\n",
    "    \n",
    "    with torch.no_grad():  # Disable gradient calculation\n",
    "        for batch in data_module.test_dataloader():\n",
    "            x, y = batch\n",
    "            outputs = model(x).cpu().numpy()\n",
    "            predictions.extend(outputs)\n",
    "            targets.extend(y.cpu().numpy())\n",
    "    \n",
    "    # Use scikit-learn to calculate explained variance\n",
    "    if len(targets) > 0:\n",
    "        explained_variance = explained_variance_score(targets, predictions)\n",
    "        return explained_variance\n",
    "    else:\n",
    "        return None\n",
    "\n",
    "# These lists will store the test results for different models and data generation methods\n",
    "model_ves = []\n",
    "linear_model_test_ves = []"
   ]
  },
  {
   "cell_type": "code",
   "execution_count": 30,
   "metadata": {},
   "outputs": [],
   "source": [
    "import torch\n",
    "from sklearn.metrics import explained_variance_score\n",
    "\n",
    "data_module = get_data_module(0.0)\n",
    "num_tfs = sum(data_module.n_sample)\n",
    "model_ves = []  # List to store explained variance for the non-linear model\n",
    "linear_model_test_ves = [] # List to store explained variance for the linear model\n",
    "\n",
    "def calculate_explained_variance(test_results, data_module, model):\n",
    "    predictions = []\n",
    "    targets = []\n",
    "\n",
    "    model.eval()  # Set the model to evaluation mode\n",
    "\n",
    "    with torch.no_grad():  # Disable gradient calculation\n",
    "        for batch in data_module.test_dataloader():\n",
    "             # Assuming your data is in the format (x, y)\n",
    "            x, y = batch\n",
    "            outputs = model(x)\n",
    "            predictions.append(outputs)\n",
    "            targets.append(y)\n",
    "    mse = torch.nn.functional.mse_loss(torch.tensor(predictions), torch.tensor(targets)).item()\n",
    "    var_y = torch.var(torch.tensor(targets)).item() \n",
    "    explained_variance = 1 - (mse / var_y)\n",
    "    return explained_variance \n",
    "\n",
    "# # Function to calculate explained variance from test results\n",
    "# def calculate_explained_variance(test_results, data_module, model):\n",
    "#     \"\"\"\n",
    "#     Calculates the explained variance score using PyTorch and scikit-learn.\n",
    "\n",
    "#     Args:\n",
    "#         test_results: The results dictionary from the trainer.test() function.\n",
    "#         data_module: The data module containing the test dataloader.\n",
    "#         model: The trained PyTorch model.\n",
    "\n",
    "#     Returns:\n",
    "#         float: The explained variance score.\n",
    "#     \"\"\"\n",
    "#     predictions = []\n",
    "#     targets = []\n",
    "\n",
    "#     model.eval()  # Set the model to evaluation mode\n",
    "\n",
    "#     with torch.no_grad():  # Disable gradient calculation\n",
    "#         for batch in data_module.test_dataloader():\n",
    "#             # Assuming your data is in the format (x, y)\n",
    "#             x, y = batch\n",
    "#             outputs = model(x)\n",
    "#             predictions.append(outputs)\n",
    "#             targets.append(y)\n",
    "\n",
    "#     predictions = torch.cat(predictions, dim=0).numpy()  # Concatenate predictions\n",
    "#     targets = torch.cat(targets, dim=0).numpy()  # Concatenate targets\n",
    "\n",
    "#     return explained_variance_score(targets, predictions)"
<<<<<<< HEAD
=======
    "    )\n",
    "\n",
    "# These lists will store the test results for different models and data generation methods\n",
    "model_ves = []\n",
    "linear_model_test_ves = []"
>>>>>>> 3daab84 (added docstring and typehinting to all methods, and added exposition to better explain the different conditions we use the model in. TODO: need to hide some of the output when training models or create an issue if I am unable to do so.)
=======
>>>>>>> 9abd1df8ced976479d07c9ca30170044b95b9b3b
   ]
  },
  {
   "cell_type": "markdown",
   "metadata": {},
   "source": [
<<<<<<< HEAD
<<<<<<< HEAD
    "### **1) Train models on data generated with no mean adjustment**\n",
=======
    "# **Train models on data generated with no mean adjustment**\n",
>>>>>>> 3daab84 (added docstring and typehinting to all methods, and added exposition to better explain the different conditions we use the model in. TODO: need to hide some of the output when training models or create an issue if I am unable to do so.)
=======
    "### **1) Train models on data generated with no mean adjustment**\n",
>>>>>>> 9abd1df8ced976479d07c9ca30170044b95b9b3b
    "We will first compare the models performances on data generated without any mean adjustments. This is the most simple dataset we will generate, and serves as a good starting point for the models."
   ]
  },
  {
   "cell_type": "code",
<<<<<<< HEAD
<<<<<<< HEAD
   "execution_count": 7,
=======
   "execution_count": 18,
>>>>>>> 3daab84 (added docstring and typehinting to all methods, and added exposition to better explain the different conditions we use the model in. TODO: need to hide some of the output when training models or create an issue if I am unable to do so.)
=======
   "execution_count": 7,
>>>>>>> 9abd1df8ced976479d07c9ca30170044b95b9b3b
   "metadata": {},
   "outputs": [
    {
     "name": "stderr",
     "output_type": "stream",
     "text": [
      "GPU available: False, used: False\n",
      "TPU available: False, using: 0 TPU cores\n",
      "IPU available: False, using: 0 IPUs\n",
      "HPU available: False, using: 0 HPUs\n",
      "/Users/ericjia/yeastdnnexplorer/yeastdnnexplorer/data_loaders/synthetic_data_loader.py:260: UserWarning: To copy construct from a tensor, it is recommended to use sourceTensor.clone().detach() or sourceTensor.clone().detach().requires_grad_(True), rather than torch.tensor(sourceTensor).\n",
      "  X_train, Y_train = torch.tensor(X_train, dtype=torch.float32), torch.tensor(\n",
      "/Users/ericjia/yeastdnnexplorer/yeastdnnexplorer/data_loaders/synthetic_data_loader.py:263: UserWarning: To copy construct from a tensor, it is recommended to use sourceTensor.clone().detach() or sourceTensor.clone().detach().requires_grad_(True), rather than torch.tensor(sourceTensor).\n",
      "  X_val, Y_val = torch.tensor(X_val, dtype=torch.float32), torch.tensor(\n",
      "/Users/ericjia/yeastdnnexplorer/yeastdnnexplorer/data_loaders/synthetic_data_loader.py:266: UserWarning: To copy construct from a tensor, it is recommended to use sourceTensor.clone().detach() or sourceTensor.clone().detach().requires_grad_(True), rather than torch.tensor(sourceTensor).\n",
      "  X_test, Y_test = torch.tensor(X_test, dtype=torch.float32), torch.tensor(\n",
      "\n",
      "  | Name          | Type              | Params\n",
      "----------------------------------------------------\n",
      "0 | activation    | LeakyReLU         | 0     \n",
      "1 | input_layer   | Linear            | 704   \n",
      "2 | hidden_layers | ModuleList        | 2.1 K \n",
      "3 | output_layer  | Linear            | 330   \n",
      "4 | dropout       | Dropout           | 0     \n",
      "5 | mae           | MeanAbsoluteError | 0     \n",
      "6 | SMSE          | SMSE              | 0     \n",
      "----------------------------------------------------\n",
      "3.1 K     Trainable params\n",
      "0         Non-trainable params\n",
      "3.1 K     Total params\n",
      "0.012     Total estimated model params size (MB)\n"
     ]
    },
    {
     "data": {
      "application/vnd.jupyter.widget-view+json": {
       "model_id": "",
       "version_major": 2,
       "version_minor": 0
      },
      "text/plain": [
<<<<<<< HEAD
       "Sanity Checking: |                                                                   | 0/? [00:00<?, ?it/s]"
=======
       "Sanity Checking: |                                                                                            …"
>>>>>>> 9abd1df8ced976479d07c9ca30170044b95b9b3b
      ]
     },
     "metadata": {},
     "output_type": "display_data"
    },
    {
     "name": "stderr",
     "output_type": "stream",
     "text": [
<<<<<<< HEAD
      "/Users/ericjia/yeastdnnexplorer/.venv/lib/python3.11/site-packages/torch/utils/data/dataloader.py:558: UserWarning: This DataLoader will create 15 worker processes in total. Our suggested max number of worker in current system is 8 (`cpuset` is not taken into account), which is smaller than what this DataLoader is going to create. Please be aware that excessive worker creation might get DataLoader running slow or even freeze, lower the worker number to avoid potential slowness/freeze if necessary.\n",
=======
      "/Users/ericjia/Library/Caches/pypoetry/virtualenvs/yeastdnnexplorer-iu4_cpc2-py3.11/lib/python3.11/site-packages/torch/utils/data/dataloader.py:558: UserWarning: This DataLoader will create 15 worker processes in total. Our suggested max number of worker in current system is 8 (`cpuset` is not taken into account), which is smaller than what this DataLoader is going to create. Please be aware that excessive worker creation might get DataLoader running slow or even freeze, lower the worker number to avoid potential slowness/freeze if necessary.\n",
>>>>>>> 9abd1df8ced976479d07c9ca30170044b95b9b3b
      "  warnings.warn(_create_warning_msg(\n"
     ]
    },
    {
     "data": {
      "application/vnd.jupyter.widget-view+json": {
<<<<<<< HEAD
       "model_id": "95ba784feb84433e8c2fcb288bc178d8",
=======
       "model_id": "d02b096d74cd495494b5fcc85f4ace17",
>>>>>>> 9abd1df8ced976479d07c9ca30170044b95b9b3b
       "version_major": 2,
       "version_minor": 0
      },
      "text/plain": [
<<<<<<< HEAD
       "Training: |                                                                          | 0/? [00:00<?, ?it/s]"
=======
       "Training: |                                                                                                   …"
>>>>>>> 9abd1df8ced976479d07c9ca30170044b95b9b3b
      ]
     },
     "metadata": {},
     "output_type": "display_data"
    },
    {
     "data": {
      "application/vnd.jupyter.widget-view+json": {
       "model_id": "",
       "version_major": 2,
       "version_minor": 0
      },
      "text/plain": [
<<<<<<< HEAD
       "Validation: |                                                                        | 0/? [00:00<?, ?it/s]"
=======
       "Validation: |                                                                                                 …"
>>>>>>> 9abd1df8ced976479d07c9ca30170044b95b9b3b
      ]
     },
     "metadata": {},
     "output_type": "display_data"
    },
    {
     "data": {
      "application/vnd.jupyter.widget-view+json": {
       "model_id": "",
       "version_major": 2,
       "version_minor": 0
      },
      "text/plain": [
<<<<<<< HEAD
       "Validation: |                                                                        | 0/? [00:00<?, ?it/s]"
=======
       "Validation: |                                                                                                 …"
>>>>>>> 9abd1df8ced976479d07c9ca30170044b95b9b3b
      ]
     },
     "metadata": {},
     "output_type": "display_data"
    },
    {
     "data": {
      "application/vnd.jupyter.widget-view+json": {
       "model_id": "",
       "version_major": 2,
       "version_minor": 0
      },
      "text/plain": [
<<<<<<< HEAD
       "Validation: |                                                                        | 0/? [00:00<?, ?it/s]"
=======
       "Validation: |                                                                                                 …"
>>>>>>> 9abd1df8ced976479d07c9ca30170044b95b9b3b
      ]
     },
     "metadata": {},
     "output_type": "display_data"
    },
    {
     "data": {
      "application/vnd.jupyter.widget-view+json": {
       "model_id": "",
       "version_major": 2,
       "version_minor": 0
      },
      "text/plain": [
<<<<<<< HEAD
       "Validation: |                                                                        | 0/? [00:00<?, ?it/s]"
=======
       "Validation: |                                                                                                 …"
>>>>>>> 9abd1df8ced976479d07c9ca30170044b95b9b3b
      ]
     },
     "metadata": {},
     "output_type": "display_data"
    },
    {
     "data": {
      "application/vnd.jupyter.widget-view+json": {
       "model_id": "",
       "version_major": 2,
       "version_minor": 0
      },
      "text/plain": [
<<<<<<< HEAD
       "Validation: |                                                                        | 0/? [00:00<?, ?it/s]"
=======
       "Validation: |                                                                                                 …"
>>>>>>> 9abd1df8ced976479d07c9ca30170044b95b9b3b
      ]
     },
     "metadata": {},
     "output_type": "display_data"
    },
    {
     "data": {
      "application/vnd.jupyter.widget-view+json": {
       "model_id": "",
       "version_major": 2,
       "version_minor": 0
      },
      "text/plain": [
<<<<<<< HEAD
       "Validation: |                                                                        | 0/? [00:00<?, ?it/s]"
=======
       "Validation: |                                                                                                 …"
>>>>>>> 9abd1df8ced976479d07c9ca30170044b95b9b3b
      ]
     },
     "metadata": {},
     "output_type": "display_data"
    },
    {
     "data": {
      "application/vnd.jupyter.widget-view+json": {
       "model_id": "",
       "version_major": 2,
       "version_minor": 0
      },
      "text/plain": [
<<<<<<< HEAD
       "Validation: |                                                                        | 0/? [00:00<?, ?it/s]"
=======
       "Validation: |                                                                                                 …"
>>>>>>> 9abd1df8ced976479d07c9ca30170044b95b9b3b
      ]
     },
     "metadata": {},
     "output_type": "display_data"
    },
    {
     "data": {
      "application/vnd.jupyter.widget-view+json": {
       "model_id": "",
       "version_major": 2,
       "version_minor": 0
      },
      "text/plain": [
<<<<<<< HEAD
       "Validation: |                                                                        | 0/? [00:00<?, ?it/s]"
=======
       "Validation: |                                                                                                 …"
>>>>>>> 9abd1df8ced976479d07c9ca30170044b95b9b3b
      ]
     },
     "metadata": {},
     "output_type": "display_data"
    },
    {
     "data": {
      "application/vnd.jupyter.widget-view+json": {
       "model_id": "",
       "version_major": 2,
       "version_minor": 0
      },
      "text/plain": [
<<<<<<< HEAD
       "Validation: |                                                                        | 0/? [00:00<?, ?it/s]"
=======
       "Validation: |                                                                                                 …"
>>>>>>> 9abd1df8ced976479d07c9ca30170044b95b9b3b
      ]
     },
     "metadata": {},
     "output_type": "display_data"
    },
    {
     "data": {
      "application/vnd.jupyter.widget-view+json": {
       "model_id": "",
       "version_major": 2,
       "version_minor": 0
      },
      "text/plain": [
<<<<<<< HEAD
       "Validation: |                                                                        | 0/? [00:00<?, ?it/s]"
=======
       "Validation: |                                                                                                 …"
>>>>>>> 9abd1df8ced976479d07c9ca30170044b95b9b3b
      ]
     },
     "metadata": {},
     "output_type": "display_data"
    },
    {
     "name": "stderr",
     "output_type": "stream",
     "text": [
<<<<<<< HEAD
      "`Trainer.fit` stopped: `max_epochs=10` reached.\n",
=======
      "`Trainer.fit` stopped: `max_epochs=10` reached.\n"
     ]
    },
    {
     "data": {
      "application/vnd.jupyter.widget-view+json": {
       "model_id": "edd3984a91d948f19aa575e99e0c23e7",
       "version_major": 2,
       "version_minor": 0
      },
      "text/plain": [
       "Testing: |                                                                                                    …"
      ]
     },
     "metadata": {},
     "output_type": "display_data"
    },
    {
     "name": "stdout",
     "output_type": "stream",
     "text": [
      "────────────────────────────────────────────────────────────────────────────────────────────────────────────────────────\n",
      "       Test metric             DataLoader 0\n",
      "────────────────────────────────────────────────────────────────────────────────────────────────────────────────────────\n",
      "        test_mae            0.9961513876914978\n",
      "        test_mse            1.5293521881103516\n",
      "        test_smse            8.054170608520508\n",
      "────────────────────────────────────────────────────────────────────────────────────────────────────────────────────────\n"
     ]
    },
    {
     "name": "stderr",
     "output_type": "stream",
     "text": [
>>>>>>> 9abd1df8ced976479d07c9ca30170044b95b9b3b
      "GPU available: False, used: False\n",
      "TPU available: False, using: 0 TPU cores\n",
      "IPU available: False, using: 0 IPUs\n",
      "HPU available: False, using: 0 HPUs\n",
<<<<<<< HEAD
      "/Users/ericjia/yeastdnnexplorer/yeastdnnexplorer/data_loaders/synthetic_data_loader.py:260: UserWarning: To copy construct from a tensor, it is recommended to use sourceTensor.clone().detach() or sourceTensor.clone().detach().requires_grad_(True), rather than torch.tensor(sourceTensor).\n",
      "  X_train, Y_train = torch.tensor(X_train, dtype=torch.float32), torch.tensor(\n",
      "/Users/ericjia/yeastdnnexplorer/yeastdnnexplorer/data_loaders/synthetic_data_loader.py:263: UserWarning: To copy construct from a tensor, it is recommended to use sourceTensor.clone().detach() or sourceTensor.clone().detach().requires_grad_(True), rather than torch.tensor(sourceTensor).\n",
      "  X_val, Y_val = torch.tensor(X_val, dtype=torch.float32), torch.tensor(\n",
      "/Users/ericjia/yeastdnnexplorer/yeastdnnexplorer/data_loaders/synthetic_data_loader.py:266: UserWarning: To copy construct from a tensor, it is recommended to use sourceTensor.clone().detach() or sourceTensor.clone().detach().requires_grad_(True), rather than torch.tensor(sourceTensor).\n",
      "  X_test, Y_test = torch.tensor(X_test, dtype=torch.float32), torch.tensor(\n",
=======
>>>>>>> 9abd1df8ced976479d07c9ca30170044b95b9b3b
      "\n",
      "  | Name    | Type              | Params\n",
      "----------------------------------------------\n",
      "0 | mae     | MeanAbsoluteError | 0     \n",
      "1 | SMSE    | SMSE              | 0     \n",
      "2 | linear1 | Linear            | 110   \n",
      "----------------------------------------------\n",
      "110       Trainable params\n",
      "0         Non-trainable params\n",
      "110       Total params\n",
      "0.000     Total estimated model params size (MB)\n"
     ]
    },
    {
     "name": "stdout",
     "output_type": "stream",
     "text": [
<<<<<<< HEAD
      "Nonlinear Model Explained Variance: 0.22300392389297485\n"
=======
      "Printing test results...\n",
      "[{'test_mse': 1.5293521881103516, 'test_mae': 0.9961513876914978, 'test_smse': 8.054170608520508}]\n"
>>>>>>> 9abd1df8ced976479d07c9ca30170044b95b9b3b
     ]
    },
    {
     "data": {
      "application/vnd.jupyter.widget-view+json": {
       "model_id": "",
       "version_major": 2,
       "version_minor": 0
      },
      "text/plain": [
<<<<<<< HEAD
       "Sanity Checking: |                                                                   | 0/? [00:00<?, ?it/s]"
=======
       "Sanity Checking: |                                                                                            …"
>>>>>>> 9abd1df8ced976479d07c9ca30170044b95b9b3b
      ]
     },
     "metadata": {},
     "output_type": "display_data"
    },
    {
     "name": "stderr",
     "output_type": "stream",
     "text": [
<<<<<<< HEAD
      "/Users/ericjia/yeastdnnexplorer/.venv/lib/python3.11/site-packages/torch/utils/data/dataloader.py:558: UserWarning: This DataLoader will create 15 worker processes in total. Our suggested max number of worker in current system is 8 (`cpuset` is not taken into account), which is smaller than what this DataLoader is going to create. Please be aware that excessive worker creation might get DataLoader running slow or even freeze, lower the worker number to avoid potential slowness/freeze if necessary.\n",
      "  warnings.warn(_create_warning_msg(\n"
=======
      "/Users/ericjia/Library/Caches/pypoetry/virtualenvs/yeastdnnexplorer-iu4_cpc2-py3.11/lib/python3.11/site-packages/pytorch_lightning/loops/fit_loop.py:298: The number of training batches (9) is smaller than the logging interval Trainer(log_every_n_steps=50). Set a lower value for log_every_n_steps if you want to see logs for the training epoch.\n"
>>>>>>> 9abd1df8ced976479d07c9ca30170044b95b9b3b
     ]
    },
    {
     "data": {
      "application/vnd.jupyter.widget-view+json": {
<<<<<<< HEAD
       "model_id": "53d45131ed5e4b2d8c9370b2e5d1ff9b",
=======
       "model_id": "4aee007cf5864b73a5513a10bae06a30",
>>>>>>> 9abd1df8ced976479d07c9ca30170044b95b9b3b
       "version_major": 2,
       "version_minor": 0
      },
      "text/plain": [
<<<<<<< HEAD
       "Training: |                                                                          | 0/? [00:00<?, ?it/s]"
=======
       "Training: |                                                                                                   …"
>>>>>>> 9abd1df8ced976479d07c9ca30170044b95b9b3b
      ]
     },
     "metadata": {},
     "output_type": "display_data"
    },
    {
     "data": {
      "application/vnd.jupyter.widget-view+json": {
       "model_id": "",
       "version_major": 2,
       "version_minor": 0
      },
      "text/plain": [
<<<<<<< HEAD
       "Validation: |                                                                        | 0/? [00:00<?, ?it/s]"
=======
       "Validation: |                                                                                                 …"
>>>>>>> 9abd1df8ced976479d07c9ca30170044b95b9b3b
      ]
     },
     "metadata": {},
     "output_type": "display_data"
    },
    {
     "data": {
      "application/vnd.jupyter.widget-view+json": {
       "model_id": "",
       "version_major": 2,
       "version_minor": 0
      },
      "text/plain": [
<<<<<<< HEAD
       "Validation: |                                                                        | 0/? [00:00<?, ?it/s]"
=======
       "Validation: |                                                                                                 …"
>>>>>>> 9abd1df8ced976479d07c9ca30170044b95b9b3b
      ]
     },
     "metadata": {},
     "output_type": "display_data"
    },
    {
     "data": {
      "application/vnd.jupyter.widget-view+json": {
       "model_id": "",
       "version_major": 2,
       "version_minor": 0
      },
      "text/plain": [
<<<<<<< HEAD
       "Validation: |                                                                        | 0/? [00:00<?, ?it/s]"
=======
       "Validation: |                                                                                                 …"
>>>>>>> 9abd1df8ced976479d07c9ca30170044b95b9b3b
      ]
     },
     "metadata": {},
     "output_type": "display_data"
    },
    {
     "data": {
      "application/vnd.jupyter.widget-view+json": {
       "model_id": "",
       "version_major": 2,
       "version_minor": 0
      },
      "text/plain": [
<<<<<<< HEAD
       "Validation: |                                                                        | 0/? [00:00<?, ?it/s]"
=======
       "Validation: |                                                                                                 …"
>>>>>>> 9abd1df8ced976479d07c9ca30170044b95b9b3b
      ]
     },
     "metadata": {},
     "output_type": "display_data"
    },
    {
     "data": {
      "application/vnd.jupyter.widget-view+json": {
       "model_id": "",
       "version_major": 2,
       "version_minor": 0
      },
      "text/plain": [
<<<<<<< HEAD
       "Validation: |                                                                        | 0/? [00:00<?, ?it/s]"
=======
       "Validation: |                                                                                                 …"
>>>>>>> 9abd1df8ced976479d07c9ca30170044b95b9b3b
      ]
     },
     "metadata": {},
     "output_type": "display_data"
    },
    {
     "data": {
      "application/vnd.jupyter.widget-view+json": {
       "model_id": "",
       "version_major": 2,
       "version_minor": 0
      },
      "text/plain": [
<<<<<<< HEAD
       "Validation: |                                                                        | 0/? [00:00<?, ?it/s]"
=======
       "Validation: |                                                                                                 …"
>>>>>>> 9abd1df8ced976479d07c9ca30170044b95b9b3b
      ]
     },
     "metadata": {},
     "output_type": "display_data"
    },
    {
     "data": {
      "application/vnd.jupyter.widget-view+json": {
       "model_id": "",
       "version_major": 2,
       "version_minor": 0
      },
      "text/plain": [
<<<<<<< HEAD
       "Validation: |                                                                        | 0/? [00:00<?, ?it/s]"
=======
       "Validation: |                                                                                                 …"
>>>>>>> 9abd1df8ced976479d07c9ca30170044b95b9b3b
      ]
     },
     "metadata": {},
     "output_type": "display_data"
    },
    {
     "data": {
      "application/vnd.jupyter.widget-view+json": {
       "model_id": "",
       "version_major": 2,
       "version_minor": 0
      },
      "text/plain": [
<<<<<<< HEAD
       "Validation: |                                                                        | 0/? [00:00<?, ?it/s]"
=======
       "Validation: |                                                                                                 …"
>>>>>>> 9abd1df8ced976479d07c9ca30170044b95b9b3b
      ]
     },
     "metadata": {},
     "output_type": "display_data"
    },
    {
     "data": {
      "application/vnd.jupyter.widget-view+json": {
       "model_id": "",
       "version_major": 2,
       "version_minor": 0
      },
      "text/plain": [
<<<<<<< HEAD
       "Validation: |                                                                        | 0/? [00:00<?, ?it/s]"
=======
       "Validation: |                                                                                                 …"
>>>>>>> 9abd1df8ced976479d07c9ca30170044b95b9b3b
      ]
     },
     "metadata": {},
     "output_type": "display_data"
    },
    {
     "data": {
      "application/vnd.jupyter.widget-view+json": {
       "model_id": "",
       "version_major": 2,
       "version_minor": 0
      },
      "text/plain": [
<<<<<<< HEAD
       "Validation: |                                                                        | 0/? [00:00<?, ?it/s]"
=======
       "Validation: |                                                                                                 …"
>>>>>>> 9abd1df8ced976479d07c9ca30170044b95b9b3b
      ]
     },
     "metadata": {},
     "output_type": "display_data"
    },
    {
     "name": "stderr",
     "output_type": "stream",
     "text": [
      "`Trainer.fit` stopped: `max_epochs=10` reached.\n"
     ]
    },
    {
<<<<<<< HEAD
     "name": "stdout",
     "output_type": "stream",
     "text": [
      "Linear Model Explained Variance: 0.005077654123306274\n"
=======
     "data": {
      "application/vnd.jupyter.widget-view+json": {
       "model_id": "121686510d0c4a818c083d308800cc56",
       "version_major": 2,
       "version_minor": 0
      },
      "text/plain": [
       "Testing: |                                                                                                    …"
      ]
     },
     "metadata": {},
     "output_type": "display_data"
    },
    {
     "name": "stdout",
     "output_type": "stream",
     "text": [
      "────────────────────────────────────────────────────────────────────────────────────────────────────────────────────────\n",
      "       Test metric             DataLoader 0\n",
      "────────────────────────────────────────────────────────────────────────────────────────────────────────────────────────\n",
      "        test_mae            1.3378851413726807\n",
      "        test_mse            3.5256669521331787\n",
      "        test_smse           18.614917755126953\n",
      "────────────────────────────────────────────────────────────────────────────────────────────────────────────────────────\n",
      "Printing linear model test results\n",
      "[{'test_mse': 3.5256669521331787, 'test_mae': 1.3378851413726807, 'test_smse': 18.614917755126953}]\n"
>>>>>>> 9abd1df8ced976479d07c9ca30170044b95b9b3b
     ]
    }
   ],
   "source": [
<<<<<<< HEAD
<<<<<<< HEAD
=======
>>>>>>> 9abd1df8ced976479d07c9ca30170044b95b9b3b
    "import warnings\n",
    "import logging\n",
    "\n",
    "# Suppress specific warnings\n",
    "warnings.filterwarnings(\"ignore\", category=UserWarning, message=\".*torch.tensor.*\")\n",
    "warnings.filterwarnings(\"ignore\", category=UserWarning, message=\".*DataLoader.*\")\n",
    "logging.getLogger(\"pytorch_lightning\").setLevel(logging.ERROR)"
   ]
  },
  {
   "cell_type": "code",
   "execution_count": 8,
   "metadata": {},
   "outputs": [
    {
     "name": "stdout",
     "output_type": "stream",
     "text": [
      "Nonlinear Model Explained Variance: 0.24550879001617432\n",
      "Linear Model Explained Variance: -0.00506981611251831\n"
     ]
    }
   ],
   "source": [
<<<<<<< HEAD
=======
>>>>>>> 3daab84 (added docstring and typehinting to all methods, and added exposition to better explain the different conditions we use the model in. TODO: need to hide some of the output when training models or create an issue if I am unable to do so.)
=======
>>>>>>> 9abd1df8ced976479d07c9ca30170044b95b9b3b
    "# Initialize data module\n",
    "data_module = get_data_module(0.0)\n",
    "num_tfs = sum(data_module.n_sample)\n",
    "\n",
    "# --- Nonlinear Model ---\n",
    "model = get_model(num_tfs)\n",
    "trainer = get_trainer()\n",
    "trainer.fit(model, data_module)\n",
    "explained_variance = calculate_explained_variance(model, data_module)\n",
    "model_ves.append(explained_variance)\n",
    "print(\"Nonlinear Model Explained Variance:\", explained_variance)\n",
    "\n",
    "# --- Linear Model ---\n",
    "linear_model = get_linear_model(num_tfs)\n",
    "trainer = get_trainer()\n",
    "trainer.fit(linear_model, data_module)\n",
    "explained_variance_linear = calculate_explained_variance(linear_model, data_module)\n",
    "linear_model_test_ves.append(explained_variance_linear)\n",
    "\n",
    "print(\"Linear Model Explained Variance:\", explained_variance_linear)"
   ]
  },
  {
   "cell_type": "markdown",
   "metadata": {},
   "source": [
<<<<<<< HEAD
<<<<<<< HEAD
    "The explained variance for the linear model is surprisingly sightly negative in contrast to the nonlinear, customizable model which yielded a significantly larger positive explained variance. This suggests that the customizable model is able to better account for the distribution of the generated data with no mean adjustments, yielding a significantly higher explained variance. It is interesting to consider whether the same relationship will be observed in the next few conditions as the data generation methods becoome increasingly more complex. "
=======
    "The explained variance for the linear model is quite small compared to the complex, customizable model which yielded a significantly larger positive explained variance. This suggests that the customizable model is able to better fit to the generated data in this condition. "
=======
    "The explained variance for the linear model is surprisingly sightly negative in contrast to the nonlinear, customizable model which yielded a significantly larger positive explained variance. This suggests that the customizable model is able to better account for the distribution of the generated data with no mean adjustments, yielding a significantly higher explained variance. It is interesting to consider whether the same relationship will be observed in the next few conditions as the data generation methods becoome increasingly more complex. "
>>>>>>> 9abd1df8ced976479d07c9ca30170044b95b9b3b
   ]
  },
  {
   "cell_type": "markdown",
   "metadata": {},
   "source": [
<<<<<<< HEAD
    "# **Train models on data generated with normal mean adjustments**\n",
=======
    "### **2) Train models on data generated with normal mean adjustments**\n",
>>>>>>> 9abd1df8ced976479d07c9ca30170044b95b9b3b
    "Now, let us perform the same comparison but using this condition, with a normal mean adjustment of 3."
   ]
  },
  {
   "cell_type": "code",
<<<<<<< HEAD
   "execution_count": 19,
   "metadata": {},
   "outputs": [
    {
     "name": "stderr",
     "output_type": "stream",
     "text": [
      "GPU available: False, used: False\n",
      "TPU available: False, using: 0 TPU cores\n",
      "IPU available: False, using: 0 IPUs\n",
      "HPU available: False, using: 0 HPUs\n",
      "/Users/ericjia/yeastdnnexplorer/yeastdnnexplorer/data_loaders/synthetic_data_loader.py:260: UserWarning: To copy construct from a tensor, it is recommended to use sourceTensor.clone().detach() or sourceTensor.clone().detach().requires_grad_(True), rather than torch.tensor(sourceTensor).\n",
      "  X_train, Y_train = torch.tensor(X_train, dtype=torch.float32), torch.tensor(\n",
      "/Users/ericjia/yeastdnnexplorer/yeastdnnexplorer/data_loaders/synthetic_data_loader.py:263: UserWarning: To copy construct from a tensor, it is recommended to use sourceTensor.clone().detach() or sourceTensor.clone().detach().requires_grad_(True), rather than torch.tensor(sourceTensor).\n",
      "  X_val, Y_val = torch.tensor(X_val, dtype=torch.float32), torch.tensor(\n",
      "/Users/ericjia/yeastdnnexplorer/yeastdnnexplorer/data_loaders/synthetic_data_loader.py:266: UserWarning: To copy construct from a tensor, it is recommended to use sourceTensor.clone().detach() or sourceTensor.clone().detach().requires_grad_(True), rather than torch.tensor(sourceTensor).\n",
      "  X_test, Y_test = torch.tensor(X_test, dtype=torch.float32), torch.tensor(\n",
      "\n",
      "  | Name          | Type              | Params\n",
      "----------------------------------------------------\n",
      "0 | activation    | LeakyReLU         | 0     \n",
      "1 | input_layer   | Linear            | 704   \n",
      "2 | hidden_layers | ModuleList        | 2.1 K \n",
      "3 | output_layer  | Linear            | 330   \n",
      "4 | dropout       | Dropout           | 0     \n",
      "5 | mae           | MeanAbsoluteError | 0     \n",
      "6 | SMSE          | SMSE              | 0     \n",
      "----------------------------------------------------\n",
      "3.1 K     Trainable params\n",
      "0         Non-trainable params\n",
      "3.1 K     Total params\n",
      "0.012     Total estimated model params size (MB)\n"
     ]
    },
    {
     "data": {
      "application/vnd.jupyter.widget-view+json": {
       "model_id": "",
       "version_major": 2,
       "version_minor": 0
      },
      "text/plain": [
       "Sanity Checking: |                                                                   | 0/? [00:00<?, ?it/s]"
      ]
     },
     "metadata": {},
     "output_type": "display_data"
    },
    {
     "name": "stderr",
     "output_type": "stream",
     "text": [
      "/Users/ericjia/yeastdnnexplorer/.venv/lib/python3.11/site-packages/torch/utils/data/dataloader.py:558: UserWarning: This DataLoader will create 15 worker processes in total. Our suggested max number of worker in current system is 8 (`cpuset` is not taken into account), which is smaller than what this DataLoader is going to create. Please be aware that excessive worker creation might get DataLoader running slow or even freeze, lower the worker number to avoid potential slowness/freeze if necessary.\n",
      "  warnings.warn(_create_warning_msg(\n"
     ]
    },
    {
     "data": {
      "application/vnd.jupyter.widget-view+json": {
       "model_id": "ba570258eb5b427c966359b4a1e2ea05",
       "version_major": 2,
       "version_minor": 0
      },
      "text/plain": [
       "Training: |                                                                          | 0/? [00:00<?, ?it/s]"
      ]
     },
     "metadata": {},
     "output_type": "display_data"
    },
    {
     "data": {
      "application/vnd.jupyter.widget-view+json": {
       "model_id": "",
       "version_major": 2,
       "version_minor": 0
      },
      "text/plain": [
       "Validation: |                                                                        | 0/? [00:00<?, ?it/s]"
      ]
     },
     "metadata": {},
     "output_type": "display_data"
    },
    {
     "data": {
      "application/vnd.jupyter.widget-view+json": {
       "model_id": "",
       "version_major": 2,
       "version_minor": 0
      },
      "text/plain": [
       "Validation: |                                                                        | 0/? [00:00<?, ?it/s]"
      ]
     },
     "metadata": {},
     "output_type": "display_data"
    },
    {
     "data": {
      "application/vnd.jupyter.widget-view+json": {
       "model_id": "",
       "version_major": 2,
       "version_minor": 0
      },
      "text/plain": [
       "Validation: |                                                                        | 0/? [00:00<?, ?it/s]"
      ]
     },
     "metadata": {},
     "output_type": "display_data"
    },
    {
     "data": {
      "application/vnd.jupyter.widget-view+json": {
       "model_id": "",
       "version_major": 2,
       "version_minor": 0
      },
      "text/plain": [
       "Validation: |                                                                        | 0/? [00:00<?, ?it/s]"
      ]
     },
     "metadata": {},
     "output_type": "display_data"
    },
    {
     "data": {
      "application/vnd.jupyter.widget-view+json": {
       "model_id": "",
       "version_major": 2,
       "version_minor": 0
      },
      "text/plain": [
       "Validation: |                                                                        | 0/? [00:00<?, ?it/s]"
      ]
     },
     "metadata": {},
     "output_type": "display_data"
    },
    {
     "data": {
      "application/vnd.jupyter.widget-view+json": {
       "model_id": "",
       "version_major": 2,
       "version_minor": 0
      },
      "text/plain": [
       "Validation: |                                                                        | 0/? [00:00<?, ?it/s]"
      ]
     },
     "metadata": {},
     "output_type": "display_data"
    },
    {
     "data": {
      "application/vnd.jupyter.widget-view+json": {
       "model_id": "",
       "version_major": 2,
       "version_minor": 0
      },
      "text/plain": [
       "Validation: |                                                                        | 0/? [00:00<?, ?it/s]"
      ]
     },
     "metadata": {},
     "output_type": "display_data"
    },
    {
     "data": {
      "application/vnd.jupyter.widget-view+json": {
       "model_id": "",
       "version_major": 2,
       "version_minor": 0
      },
      "text/plain": [
       "Validation: |                                                                        | 0/? [00:00<?, ?it/s]"
      ]
     },
     "metadata": {},
     "output_type": "display_data"
    },
    {
     "data": {
      "application/vnd.jupyter.widget-view+json": {
       "model_id": "",
       "version_major": 2,
       "version_minor": 0
      },
      "text/plain": [
       "Validation: |                                                                        | 0/? [00:00<?, ?it/s]"
      ]
     },
     "metadata": {},
     "output_type": "display_data"
    },
    {
     "data": {
      "application/vnd.jupyter.widget-view+json": {
       "model_id": "",
       "version_major": 2,
       "version_minor": 0
      },
      "text/plain": [
       "Validation: |                                                                        | 0/? [00:00<?, ?it/s]"
      ]
     },
     "metadata": {},
     "output_type": "display_data"
    },
    {
     "name": "stderr",
     "output_type": "stream",
     "text": [
      "`Trainer.fit` stopped: `max_epochs=10` reached.\n",
      "GPU available: False, used: False\n",
      "TPU available: False, using: 0 TPU cores\n",
      "IPU available: False, using: 0 IPUs\n",
      "HPU available: False, using: 0 HPUs\n"
     ]
    },
    {
     "name": "stdout",
     "output_type": "stream",
     "text": [
      "Nonlinear Model Explained Variance (Method 2): 0.2848140120506287\n"
     ]
    },
    {
     "name": "stderr",
     "output_type": "stream",
     "text": [
      "/Users/ericjia/yeastdnnexplorer/yeastdnnexplorer/data_loaders/synthetic_data_loader.py:260: UserWarning: To copy construct from a tensor, it is recommended to use sourceTensor.clone().detach() or sourceTensor.clone().detach().requires_grad_(True), rather than torch.tensor(sourceTensor).\n",
      "  X_train, Y_train = torch.tensor(X_train, dtype=torch.float32), torch.tensor(\n",
      "/Users/ericjia/yeastdnnexplorer/yeastdnnexplorer/data_loaders/synthetic_data_loader.py:263: UserWarning: To copy construct from a tensor, it is recommended to use sourceTensor.clone().detach() or sourceTensor.clone().detach().requires_grad_(True), rather than torch.tensor(sourceTensor).\n",
      "  X_val, Y_val = torch.tensor(X_val, dtype=torch.float32), torch.tensor(\n",
      "/Users/ericjia/yeastdnnexplorer/yeastdnnexplorer/data_loaders/synthetic_data_loader.py:266: UserWarning: To copy construct from a tensor, it is recommended to use sourceTensor.clone().detach() or sourceTensor.clone().detach().requires_grad_(True), rather than torch.tensor(sourceTensor).\n",
      "  X_test, Y_test = torch.tensor(X_test, dtype=torch.float32), torch.tensor(\n",
      "\n",
      "  | Name    | Type              | Params\n",
      "----------------------------------------------\n",
      "0 | mae     | MeanAbsoluteError | 0     \n",
      "1 | SMSE    | SMSE              | 0     \n",
      "2 | linear1 | Linear            | 110   \n",
      "----------------------------------------------\n",
      "110       Trainable params\n",
      "0         Non-trainable params\n",
      "110       Total params\n",
      "0.000     Total estimated model params size (MB)\n"
     ]
    },
    {
     "data": {
      "application/vnd.jupyter.widget-view+json": {
       "model_id": "",
       "version_major": 2,
       "version_minor": 0
      },
      "text/plain": [
       "Sanity Checking: |                                                                   | 0/? [00:00<?, ?it/s]"
      ]
     },
     "metadata": {},
     "output_type": "display_data"
    },
    {
     "name": "stderr",
     "output_type": "stream",
     "text": [
      "/Users/ericjia/yeastdnnexplorer/.venv/lib/python3.11/site-packages/torch/utils/data/dataloader.py:558: UserWarning: This DataLoader will create 15 worker processes in total. Our suggested max number of worker in current system is 8 (`cpuset` is not taken into account), which is smaller than what this DataLoader is going to create. Please be aware that excessive worker creation might get DataLoader running slow or even freeze, lower the worker number to avoid potential slowness/freeze if necessary.\n",
      "  warnings.warn(_create_warning_msg(\n"
     ]
    },
    {
     "data": {
      "application/vnd.jupyter.widget-view+json": {
       "model_id": "bdfb399682624717819f362cff0b6042",
       "version_major": 2,
       "version_minor": 0
      },
      "text/plain": [
       "Training: |                                                                          | 0/? [00:00<?, ?it/s]"
      ]
     },
     "metadata": {},
     "output_type": "display_data"
    },
    {
     "data": {
      "application/vnd.jupyter.widget-view+json": {
       "model_id": "",
       "version_major": 2,
       "version_minor": 0
      },
      "text/plain": [
       "Validation: |                                                                        | 0/? [00:00<?, ?it/s]"
      ]
     },
     "metadata": {},
     "output_type": "display_data"
    },
    {
     "data": {
      "application/vnd.jupyter.widget-view+json": {
       "model_id": "",
       "version_major": 2,
       "version_minor": 0
      },
      "text/plain": [
       "Validation: |                                                                        | 0/? [00:00<?, ?it/s]"
      ]
     },
     "metadata": {},
     "output_type": "display_data"
    },
    {
     "data": {
      "application/vnd.jupyter.widget-view+json": {
       "model_id": "",
       "version_major": 2,
       "version_minor": 0
      },
      "text/plain": [
       "Validation: |                                                                        | 0/? [00:00<?, ?it/s]"
      ]
     },
     "metadata": {},
     "output_type": "display_data"
    },
    {
     "data": {
      "application/vnd.jupyter.widget-view+json": {
       "model_id": "",
       "version_major": 2,
       "version_minor": 0
      },
      "text/plain": [
       "Validation: |                                                                        | 0/? [00:00<?, ?it/s]"
      ]
     },
     "metadata": {},
     "output_type": "display_data"
    },
    {
     "data": {
      "application/vnd.jupyter.widget-view+json": {
       "model_id": "",
       "version_major": 2,
       "version_minor": 0
      },
      "text/plain": [
       "Validation: |                                                                        | 0/? [00:00<?, ?it/s]"
      ]
     },
     "metadata": {},
     "output_type": "display_data"
    },
    {
     "data": {
      "application/vnd.jupyter.widget-view+json": {
       "model_id": "",
       "version_major": 2,
       "version_minor": 0
      },
      "text/plain": [
       "Validation: |                                                                        | 0/? [00:00<?, ?it/s]"
      ]
     },
     "metadata": {},
     "output_type": "display_data"
    },
    {
     "data": {
      "application/vnd.jupyter.widget-view+json": {
       "model_id": "",
       "version_major": 2,
       "version_minor": 0
      },
      "text/plain": [
       "Validation: |                                                                        | 0/? [00:00<?, ?it/s]"
      ]
     },
     "metadata": {},
     "output_type": "display_data"
    },
    {
     "data": {
      "application/vnd.jupyter.widget-view+json": {
       "model_id": "",
       "version_major": 2,
       "version_minor": 0
      },
      "text/plain": [
       "Validation: |                                                                        | 0/? [00:00<?, ?it/s]"
      ]
     },
     "metadata": {},
     "output_type": "display_data"
    },
    {
     "data": {
      "application/vnd.jupyter.widget-view+json": {
       "model_id": "",
       "version_major": 2,
       "version_minor": 0
      },
      "text/plain": [
       "Validation: |                                                                        | 0/? [00:00<?, ?it/s]"
      ]
     },
     "metadata": {},
     "output_type": "display_data"
    },
    {
     "data": {
      "application/vnd.jupyter.widget-view+json": {
       "model_id": "",
       "version_major": 2,
       "version_minor": 0
      },
      "text/plain": [
       "Validation: |                                                                        | 0/? [00:00<?, ?it/s]"
      ]
     },
     "metadata": {},
     "output_type": "display_data"
    },
    {
     "name": "stderr",
     "output_type": "stream",
     "text": [
      "`Trainer.fit` stopped: `max_epochs=10` reached.\n"
     ]
    },
    {
     "name": "stdout",
     "output_type": "stream",
     "text": [
      "Linear Model Explained Variance (Method 2): 0.022074705362319945\n"
=======
   "execution_count": 13,
   "metadata": {},
   "outputs": [
    {
     "name": "stdout",
     "output_type": "stream",
     "text": [
      "Nonlinear Model Explained Variance (Method 2): 0.2549255728721619\n",
      "Linear Model Explained Variance (Method 2): 0.07210595607757568\n"
>>>>>>> 9abd1df8ced976479d07c9ca30170044b95b9b3b
     ]
    }
   ],
   "source": [
    "data_module = get_data_module(3.0)\n",
    "num_tfs = sum(data_module.n_sample)\n",
    "\n",
    "# Nonlinear model\n",
    "model = get_model(num_tfs)\n",
    "trainer = get_trainer()\n",
    "trainer.fit(model, data_module)\n",
    "explained_variance = calculate_explained_variance(model, data_module)\n",
    "model_ves.append(explained_variance)\n",
    "print(\"Nonlinear Model Explained Variance (Method 2):\", explained_variance)\n",
    "\n",
    "# Linear model\n",
    "linear_model = get_linear_model(num_tfs)\n",
    "trainer = get_trainer()\n",
    "trainer.fit(linear_model, data_module)\n",
    "explained_variance_linear = calculate_explained_variance(linear_model, data_module)\n",
    "linear_model_test_ves.append(explained_variance_linear)\n",
    "print(\"Linear Model Explained Variance (Method 2):\", explained_variance_linear)\n"
<<<<<<< HEAD
>>>>>>> 3daab84 (added docstring and typehinting to all methods, and added exposition to better explain the different conditions we use the model in. TODO: need to hide some of the output when training models or create an issue if I am unable to do so.)
=======
>>>>>>> 9abd1df8ced976479d07c9ca30170044b95b9b3b
   ]
  },
  {
   "cell_type": "markdown",
   "metadata": {},
   "source": [
<<<<<<< HEAD
<<<<<<< HEAD
    "### **2) Train models on data generated with normal mean adjustments**\n",
    "Now, let us perform the same comparison but using this condition, with a normal mean adjustment of 3."
=======
    "Once again, a similar explained variance metric was obtained using both models, suggesting that the customizable model performs substantially better than the simple linear model based on the generated data. We will continue to explore whether this relationship holds across all 4 conditions."
   ]
  },
  {
   "cell_type": "markdown",
   "metadata": {},
   "source": [
    "# **Train model on data generated with dependent mean adjustments (method 3)**\n",
    "Now we are implementing a dataset that contains dependent mean adjustments as shown below, with a mean adjustment of 3 if the TF meets the criteria defined by the dictionary."
   ]
  },
  {
   "cell_type": "code",
   "execution_count": 20,
   "metadata": {},
   "outputs": [
    {
     "name": "stderr",
     "output_type": "stream",
     "text": [
      "GPU available: False, used: False\n",
      "TPU available: False, using: 0 TPU cores\n",
      "IPU available: False, using: 0 IPUs\n",
      "HPU available: False, using: 0 HPUs\n",
      "/Users/ericjia/yeastdnnexplorer/yeastdnnexplorer/data_loaders/synthetic_data_loader.py:260: UserWarning: To copy construct from a tensor, it is recommended to use sourceTensor.clone().detach() or sourceTensor.clone().detach().requires_grad_(True), rather than torch.tensor(sourceTensor).\n",
      "  X_train, Y_train = torch.tensor(X_train, dtype=torch.float32), torch.tensor(\n",
      "/Users/ericjia/yeastdnnexplorer/yeastdnnexplorer/data_loaders/synthetic_data_loader.py:263: UserWarning: To copy construct from a tensor, it is recommended to use sourceTensor.clone().detach() or sourceTensor.clone().detach().requires_grad_(True), rather than torch.tensor(sourceTensor).\n",
      "  X_val, Y_val = torch.tensor(X_val, dtype=torch.float32), torch.tensor(\n",
      "/Users/ericjia/yeastdnnexplorer/yeastdnnexplorer/data_loaders/synthetic_data_loader.py:266: UserWarning: To copy construct from a tensor, it is recommended to use sourceTensor.clone().detach() or sourceTensor.clone().detach().requires_grad_(True), rather than torch.tensor(sourceTensor).\n",
      "  X_test, Y_test = torch.tensor(X_test, dtype=torch.float32), torch.tensor(\n",
      "\n",
      "  | Name          | Type              | Params\n",
      "----------------------------------------------------\n",
      "0 | activation    | LeakyReLU         | 0     \n",
      "1 | input_layer   | Linear            | 704   \n",
      "2 | hidden_layers | ModuleList        | 2.1 K \n",
      "3 | output_layer  | Linear            | 330   \n",
      "4 | dropout       | Dropout           | 0     \n",
      "5 | mae           | MeanAbsoluteError | 0     \n",
      "6 | SMSE          | SMSE              | 0     \n",
      "----------------------------------------------------\n",
      "3.1 K     Trainable params\n",
      "0         Non-trainable params\n",
      "3.1 K     Total params\n",
      "0.012     Total estimated model params size (MB)\n"
     ]
    },
    {
     "data": {
      "application/vnd.jupyter.widget-view+json": {
       "model_id": "",
       "version_major": 2,
       "version_minor": 0
      },
      "text/plain": [
       "Sanity Checking: |                                                                   | 0/? [00:00<?, ?it/s]"
      ]
     },
     "metadata": {},
     "output_type": "display_data"
    },
    {
     "name": "stderr",
     "output_type": "stream",
     "text": [
      "/Users/ericjia/yeastdnnexplorer/.venv/lib/python3.11/site-packages/torch/utils/data/dataloader.py:558: UserWarning: This DataLoader will create 15 worker processes in total. Our suggested max number of worker in current system is 8 (`cpuset` is not taken into account), which is smaller than what this DataLoader is going to create. Please be aware that excessive worker creation might get DataLoader running slow or even freeze, lower the worker number to avoid potential slowness/freeze if necessary.\n",
      "  warnings.warn(_create_warning_msg(\n"
     ]
    },
    {
     "data": {
      "application/vnd.jupyter.widget-view+json": {
       "model_id": "260fd619d2b04dadae9080aa5de24ffb",
       "version_major": 2,
       "version_minor": 0
      },
      "text/plain": [
       "Training: |                                                                          | 0/? [00:00<?, ?it/s]"
      ]
     },
     "metadata": {},
     "output_type": "display_data"
    },
    {
     "data": {
      "application/vnd.jupyter.widget-view+json": {
       "model_id": "",
       "version_major": 2,
       "version_minor": 0
      },
      "text/plain": [
       "Validation: |                                                                        | 0/? [00:00<?, ?it/s]"
      ]
     },
     "metadata": {},
     "output_type": "display_data"
    },
    {
     "data": {
      "application/vnd.jupyter.widget-view+json": {
       "model_id": "",
       "version_major": 2,
       "version_minor": 0
      },
      "text/plain": [
       "Validation: |                                                                        | 0/? [00:00<?, ?it/s]"
      ]
     },
     "metadata": {},
     "output_type": "display_data"
    },
    {
     "data": {
      "application/vnd.jupyter.widget-view+json": {
       "model_id": "",
       "version_major": 2,
       "version_minor": 0
      },
      "text/plain": [
       "Validation: |                                                                        | 0/? [00:00<?, ?it/s]"
      ]
     },
     "metadata": {},
     "output_type": "display_data"
    },
    {
     "data": {
      "application/vnd.jupyter.widget-view+json": {
       "model_id": "",
       "version_major": 2,
       "version_minor": 0
      },
      "text/plain": [
       "Validation: |                                                                        | 0/? [00:00<?, ?it/s]"
      ]
     },
     "metadata": {},
     "output_type": "display_data"
    },
    {
     "data": {
      "application/vnd.jupyter.widget-view+json": {
       "model_id": "",
       "version_major": 2,
       "version_minor": 0
      },
      "text/plain": [
       "Validation: |                                                                        | 0/? [00:00<?, ?it/s]"
      ]
     },
     "metadata": {},
     "output_type": "display_data"
    },
    {
     "data": {
      "application/vnd.jupyter.widget-view+json": {
       "model_id": "",
       "version_major": 2,
       "version_minor": 0
      },
      "text/plain": [
       "Validation: |                                                                        | 0/? [00:00<?, ?it/s]"
      ]
     },
     "metadata": {},
     "output_type": "display_data"
    },
    {
     "data": {
      "application/vnd.jupyter.widget-view+json": {
       "model_id": "",
       "version_major": 2,
       "version_minor": 0
      },
      "text/plain": [
       "Validation: |                                                                        | 0/? [00:00<?, ?it/s]"
      ]
     },
     "metadata": {},
     "output_type": "display_data"
    },
    {
     "data": {
      "application/vnd.jupyter.widget-view+json": {
       "model_id": "",
       "version_major": 2,
       "version_minor": 0
      },
      "text/plain": [
       "Validation: |                                                                        | 0/? [00:00<?, ?it/s]"
      ]
     },
     "metadata": {},
     "output_type": "display_data"
    },
    {
     "data": {
      "application/vnd.jupyter.widget-view+json": {
       "model_id": "",
       "version_major": 2,
       "version_minor": 0
      },
      "text/plain": [
       "Validation: |                                                                        | 0/? [00:00<?, ?it/s]"
      ]
     },
     "metadata": {},
     "output_type": "display_data"
    },
    {
     "data": {
      "application/vnd.jupyter.widget-view+json": {
       "model_id": "",
       "version_major": 2,
       "version_minor": 0
      },
      "text/plain": [
       "Validation: |                                                                        | 0/? [00:00<?, ?it/s]"
      ]
     },
     "metadata": {},
     "output_type": "display_data"
    },
    {
     "name": "stderr",
     "output_type": "stream",
     "text": [
      "`Trainer.fit` stopped: `max_epochs=10` reached.\n",
      "GPU available: False, used: False\n",
      "TPU available: False, using: 0 TPU cores\n",
      "IPU available: False, using: 0 IPUs\n",
      "HPU available: False, using: 0 HPUs\n"
     ]
    },
    {
     "name": "stdout",
     "output_type": "stream",
     "text": [
      "Nonlinear Model Explained Variance (Method 3): 0.1358485460281372\n"
     ]
    },
    {
     "name": "stderr",
     "output_type": "stream",
     "text": [
      "/Users/ericjia/yeastdnnexplorer/yeastdnnexplorer/data_loaders/synthetic_data_loader.py:260: UserWarning: To copy construct from a tensor, it is recommended to use sourceTensor.clone().detach() or sourceTensor.clone().detach().requires_grad_(True), rather than torch.tensor(sourceTensor).\n",
      "  X_train, Y_train = torch.tensor(X_train, dtype=torch.float32), torch.tensor(\n",
      "/Users/ericjia/yeastdnnexplorer/yeastdnnexplorer/data_loaders/synthetic_data_loader.py:263: UserWarning: To copy construct from a tensor, it is recommended to use sourceTensor.clone().detach() or sourceTensor.clone().detach().requires_grad_(True), rather than torch.tensor(sourceTensor).\n",
      "  X_val, Y_val = torch.tensor(X_val, dtype=torch.float32), torch.tensor(\n",
      "/Users/ericjia/yeastdnnexplorer/yeastdnnexplorer/data_loaders/synthetic_data_loader.py:266: UserWarning: To copy construct from a tensor, it is recommended to use sourceTensor.clone().detach() or sourceTensor.clone().detach().requires_grad_(True), rather than torch.tensor(sourceTensor).\n",
      "  X_test, Y_test = torch.tensor(X_test, dtype=torch.float32), torch.tensor(\n",
      "\n",
      "  | Name    | Type              | Params\n",
      "----------------------------------------------\n",
      "0 | mae     | MeanAbsoluteError | 0     \n",
      "1 | SMSE    | SMSE              | 0     \n",
      "2 | linear1 | Linear            | 110   \n",
      "----------------------------------------------\n",
      "110       Trainable params\n",
      "0         Non-trainable params\n",
      "110       Total params\n",
      "0.000     Total estimated model params size (MB)\n"
     ]
    },
    {
     "data": {
      "application/vnd.jupyter.widget-view+json": {
       "model_id": "",
       "version_major": 2,
       "version_minor": 0
      },
      "text/plain": [
       "Sanity Checking: |                                                                   | 0/? [00:00<?, ?it/s]"
      ]
     },
     "metadata": {},
     "output_type": "display_data"
    },
    {
     "name": "stderr",
     "output_type": "stream",
     "text": [
      "/Users/ericjia/yeastdnnexplorer/.venv/lib/python3.11/site-packages/torch/utils/data/dataloader.py:558: UserWarning: This DataLoader will create 15 worker processes in total. Our suggested max number of worker in current system is 8 (`cpuset` is not taken into account), which is smaller than what this DataLoader is going to create. Please be aware that excessive worker creation might get DataLoader running slow or even freeze, lower the worker number to avoid potential slowness/freeze if necessary.\n",
      "  warnings.warn(_create_warning_msg(\n"
     ]
    },
    {
     "data": {
      "application/vnd.jupyter.widget-view+json": {
       "model_id": "331020eeb9a4457786233136b144c91b",
       "version_major": 2,
       "version_minor": 0
      },
      "text/plain": [
       "Training: |                                                                          | 0/? [00:00<?, ?it/s]"
      ]
     },
     "metadata": {},
     "output_type": "display_data"
    },
    {
     "data": {
      "application/vnd.jupyter.widget-view+json": {
       "model_id": "",
       "version_major": 2,
       "version_minor": 0
      },
      "text/plain": [
       "Validation: |                                                                        | 0/? [00:00<?, ?it/s]"
      ]
     },
     "metadata": {},
     "output_type": "display_data"
    },
    {
     "data": {
      "application/vnd.jupyter.widget-view+json": {
       "model_id": "",
       "version_major": 2,
       "version_minor": 0
      },
      "text/plain": [
       "Validation: |                                                                        | 0/? [00:00<?, ?it/s]"
      ]
     },
     "metadata": {},
     "output_type": "display_data"
    },
    {
     "data": {
      "application/vnd.jupyter.widget-view+json": {
       "model_id": "",
       "version_major": 2,
       "version_minor": 0
      },
      "text/plain": [
       "Validation: |                                                                        | 0/? [00:00<?, ?it/s]"
      ]
     },
     "metadata": {},
     "output_type": "display_data"
    },
    {
     "data": {
      "application/vnd.jupyter.widget-view+json": {
       "model_id": "",
       "version_major": 2,
       "version_minor": 0
      },
      "text/plain": [
       "Validation: |                                                                        | 0/? [00:00<?, ?it/s]"
      ]
     },
     "metadata": {},
     "output_type": "display_data"
    },
    {
     "data": {
      "application/vnd.jupyter.widget-view+json": {
       "model_id": "",
       "version_major": 2,
       "version_minor": 0
      },
      "text/plain": [
       "Validation: |                                                                        | 0/? [00:00<?, ?it/s]"
      ]
     },
     "metadata": {},
     "output_type": "display_data"
    },
    {
     "data": {
      "application/vnd.jupyter.widget-view+json": {
       "model_id": "",
       "version_major": 2,
       "version_minor": 0
      },
      "text/plain": [
       "Validation: |                                                                        | 0/? [00:00<?, ?it/s]"
      ]
     },
     "metadata": {},
     "output_type": "display_data"
    },
    {
     "data": {
      "application/vnd.jupyter.widget-view+json": {
       "model_id": "",
       "version_major": 2,
       "version_minor": 0
      },
      "text/plain": [
       "Validation: |                                                                        | 0/? [00:00<?, ?it/s]"
      ]
     },
     "metadata": {},
     "output_type": "display_data"
    },
    {
     "data": {
      "application/vnd.jupyter.widget-view+json": {
       "model_id": "",
       "version_major": 2,
       "version_minor": 0
      },
      "text/plain": [
       "Validation: |                                                                        | 0/? [00:00<?, ?it/s]"
      ]
     },
     "metadata": {},
     "output_type": "display_data"
    },
    {
     "data": {
      "application/vnd.jupyter.widget-view+json": {
       "model_id": "",
       "version_major": 2,
       "version_minor": 0
      },
      "text/plain": [
       "Validation: |                                                                        | 0/? [00:00<?, ?it/s]"
      ]
     },
     "metadata": {},
     "output_type": "display_data"
    },
    {
     "data": {
      "application/vnd.jupyter.widget-view+json": {
       "model_id": "",
       "version_major": 2,
       "version_minor": 0
      },
      "text/plain": [
       "Validation: |                                                                        | 0/? [00:00<?, ?it/s]"
      ]
     },
     "metadata": {},
     "output_type": "display_data"
    },
    {
     "name": "stderr",
     "output_type": "stream",
     "text": [
      "`Trainer.fit` stopped: `max_epochs=10` reached.\n"
     ]
    },
    {
     "name": "stdout",
     "output_type": "stream",
     "text": [
      "Linear Model Explained Variance (Method 3): -0.008052104711532592\n"
     ]
    }
   ],
   "source": [
    "# Method 3\n",
    "tf_relationships_dict = {\n",
    "    0: [1],\n",
    "    1: [8],\n",
    "    2: [5, 6],\n",
    "    3: [4],\n",
    "    4: [5],\n",
    "    5: [9],\n",
    "    6: [4],\n",
    "    7: [1, 4],\n",
    "    8: [6],\n",
    "    9: [4],\n",
    "}\n",
    "\n",
    "data_module = get_data_module(3.0, perturbation_effect_adjustment_function_with_tf_relationships, tf_relationships_dict)\n",
    "num_tfs = sum(data_module.n_sample)\n",
    "\n",
    "# Nonlinear model\n",
    "model = get_model(num_tfs)\n",
    "trainer = get_trainer()\n",
    "trainer.fit(model, data_module)\n",
    "explained_variance = calculate_explained_variance(model, data_module)\n",
    "model_ves.append(explained_variance)\n",
    "print(\"Nonlinear Model Explained Variance (Method 3):\", explained_variance)\n",
    "#Nonlinear Model Explained Variance (Method 3): 0.1358485460281372\n",
    "#Nonlinear Model Explained Variance (Method 3): 0.14976404905319213\n",
    "\n",
    "\n",
    "# Linear model\n",
    "linear_model = get_linear_model(num_tfs)\n",
    "trainer = get_trainer()\n",
    "trainer.fit(linear_model, data_module)\n",
    "explained_variance_linear = calculate_explained_variance(linear_model, data_module)\n",
    "linear_model_test_ves.append(explained_variance_linear)\n",
    "print(\"Linear Model Explained Variance (Method 3):\", explained_variance_linear)\n",
    "#Linear Model Explained Variance (Method 3): -0.0013749837875366212\n"
=======
    "Once again, a similar explained variance metric was obtained using both models. However, this time, the simple linear model achieved a positive value, meaning that it was able to somewhat account for the distribution of the data. However, given the difference in explained variance scores, this once again suggests that the nonlinear, customizable model performs substantially better than the simple linear model based on the generated data with a mean adjustment of 3. It seems that the additional parameters in the nonlinear neural network can better accomodate the complexity of the data relatively better than the simple linear model."
>>>>>>> 9abd1df8ced976479d07c9ca30170044b95b9b3b
   ]
  },
  {
   "cell_type": "markdown",
   "metadata": {},
   "source": [
<<<<<<< HEAD
    "The simple linear model's explained variance is the lowest it has been out of the three conditions so far, and it appears once again that the customizable model obtains a better, larger explained variance compared to the simple linear model even when implementing dependencies among TFs. This would make sense as the added layer of complexity makes it more difficult for the simple linear model to make an accurate prediction. Lastly, it would be interesting to consider how the models will perform on data including more complex dependencies that involve binary relations."
   ]
  },
  {
   "cell_type": "markdown",
   "metadata": {},
   "source": [
    "# **Train models on data generated using the binary relations between TFs (method 4)**\n",
    "Similar to the previous condition, we are implementing dependencies between TFs. However, the following dictionary contains simple logic that makes these dependencies far more complex. For example, in order for transcription factor 4 to be perturbed based on the dictionary below, both TFs 1 and 2 need to be considered perturbed in order for this TF to be perturbed as well. Adding this additional layer of complexity will be an interesting challenge: let us see how the two models perform here."
=======
    "### **3) Train models on data generated with dependent mean adjustments**\n",
    "Now we are implementing a dataset that contains dependent mean adjustments as shown below, with a mean adjustment of 3 if the TF meets the criteria defined by the dictionary."
>>>>>>> 9abd1df8ced976479d07c9ca30170044b95b9b3b
   ]
  },
  {
   "cell_type": "code",
<<<<<<< HEAD
   "execution_count": 21,
   "metadata": {},
   "outputs": [
    {
     "name": "stderr",
     "output_type": "stream",
     "text": [
      "GPU available: False, used: False\n",
      "TPU available: False, using: 0 TPU cores\n",
      "IPU available: False, using: 0 IPUs\n",
      "HPU available: False, using: 0 HPUs\n",
      "/Users/ericjia/yeastdnnexplorer/yeastdnnexplorer/data_loaders/synthetic_data_loader.py:260: UserWarning: To copy construct from a tensor, it is recommended to use sourceTensor.clone().detach() or sourceTensor.clone().detach().requires_grad_(True), rather than torch.tensor(sourceTensor).\n",
      "  X_train, Y_train = torch.tensor(X_train, dtype=torch.float32), torch.tensor(\n",
      "/Users/ericjia/yeastdnnexplorer/yeastdnnexplorer/data_loaders/synthetic_data_loader.py:263: UserWarning: To copy construct from a tensor, it is recommended to use sourceTensor.clone().detach() or sourceTensor.clone().detach().requires_grad_(True), rather than torch.tensor(sourceTensor).\n",
      "  X_val, Y_val = torch.tensor(X_val, dtype=torch.float32), torch.tensor(\n",
      "/Users/ericjia/yeastdnnexplorer/yeastdnnexplorer/data_loaders/synthetic_data_loader.py:266: UserWarning: To copy construct from a tensor, it is recommended to use sourceTensor.clone().detach() or sourceTensor.clone().detach().requires_grad_(True), rather than torch.tensor(sourceTensor).\n",
      "  X_test, Y_test = torch.tensor(X_test, dtype=torch.float32), torch.tensor(\n",
      "\n",
      "  | Name          | Type              | Params\n",
      "----------------------------------------------------\n",
      "0 | activation    | LeakyReLU         | 0     \n",
      "1 | input_layer   | Linear            | 704   \n",
      "2 | hidden_layers | ModuleList        | 2.1 K \n",
      "3 | output_layer  | Linear            | 330   \n",
      "4 | dropout       | Dropout           | 0     \n",
      "5 | mae           | MeanAbsoluteError | 0     \n",
      "6 | SMSE          | SMSE              | 0     \n",
      "----------------------------------------------------\n",
      "3.1 K     Trainable params\n",
      "0         Non-trainable params\n",
      "3.1 K     Total params\n",
      "0.012     Total estimated model params size (MB)\n"
     ]
    },
    {
     "data": {
      "application/vnd.jupyter.widget-view+json": {
       "model_id": "",
       "version_major": 2,
       "version_minor": 0
      },
      "text/plain": [
       "Sanity Checking: |                                                                   | 0/? [00:00<?, ?it/s]"
      ]
     },
     "metadata": {},
     "output_type": "display_data"
    },
    {
     "name": "stderr",
     "output_type": "stream",
     "text": [
      "/Users/ericjia/yeastdnnexplorer/.venv/lib/python3.11/site-packages/torch/utils/data/dataloader.py:558: UserWarning: This DataLoader will create 15 worker processes in total. Our suggested max number of worker in current system is 8 (`cpuset` is not taken into account), which is smaller than what this DataLoader is going to create. Please be aware that excessive worker creation might get DataLoader running slow or even freeze, lower the worker number to avoid potential slowness/freeze if necessary.\n",
      "  warnings.warn(_create_warning_msg(\n"
     ]
    },
    {
     "data": {
      "application/vnd.jupyter.widget-view+json": {
       "model_id": "e27be17357fb4759970cce9791fd7abb",
       "version_major": 2,
       "version_minor": 0
      },
      "text/plain": [
       "Training: |                                                                          | 0/? [00:00<?, ?it/s]"
      ]
     },
     "metadata": {},
     "output_type": "display_data"
    },
    {
     "data": {
      "application/vnd.jupyter.widget-view+json": {
       "model_id": "",
       "version_major": 2,
       "version_minor": 0
      },
      "text/plain": [
       "Validation: |                                                                        | 0/? [00:00<?, ?it/s]"
      ]
     },
     "metadata": {},
     "output_type": "display_data"
    },
    {
     "data": {
      "application/vnd.jupyter.widget-view+json": {
       "model_id": "",
       "version_major": 2,
       "version_minor": 0
      },
      "text/plain": [
       "Validation: |                                                                        | 0/? [00:00<?, ?it/s]"
      ]
     },
     "metadata": {},
     "output_type": "display_data"
    },
    {
     "data": {
      "application/vnd.jupyter.widget-view+json": {
       "model_id": "",
       "version_major": 2,
       "version_minor": 0
      },
      "text/plain": [
       "Validation: |                                                                        | 0/? [00:00<?, ?it/s]"
      ]
     },
     "metadata": {},
     "output_type": "display_data"
    },
    {
     "data": {
      "application/vnd.jupyter.widget-view+json": {
       "model_id": "",
       "version_major": 2,
       "version_minor": 0
      },
      "text/plain": [
       "Validation: |                                                                        | 0/? [00:00<?, ?it/s]"
      ]
     },
     "metadata": {},
     "output_type": "display_data"
    },
    {
     "data": {
      "application/vnd.jupyter.widget-view+json": {
       "model_id": "",
       "version_major": 2,
       "version_minor": 0
      },
      "text/plain": [
       "Validation: |                                                                        | 0/? [00:00<?, ?it/s]"
      ]
     },
     "metadata": {},
     "output_type": "display_data"
    },
    {
     "data": {
      "application/vnd.jupyter.widget-view+json": {
       "model_id": "",
       "version_major": 2,
       "version_minor": 0
      },
      "text/plain": [
       "Validation: |                                                                        | 0/? [00:00<?, ?it/s]"
      ]
     },
     "metadata": {},
     "output_type": "display_data"
    },
    {
     "data": {
      "application/vnd.jupyter.widget-view+json": {
       "model_id": "",
       "version_major": 2,
       "version_minor": 0
      },
      "text/plain": [
       "Validation: |                                                                        | 0/? [00:00<?, ?it/s]"
      ]
     },
     "metadata": {},
     "output_type": "display_data"
    },
    {
     "data": {
      "application/vnd.jupyter.widget-view+json": {
       "model_id": "",
       "version_major": 2,
       "version_minor": 0
      },
      "text/plain": [
       "Validation: |                                                                        | 0/? [00:00<?, ?it/s]"
      ]
     },
     "metadata": {},
     "output_type": "display_data"
    },
    {
     "data": {
      "application/vnd.jupyter.widget-view+json": {
       "model_id": "",
       "version_major": 2,
       "version_minor": 0
      },
      "text/plain": [
       "Validation: |                                                                        | 0/? [00:00<?, ?it/s]"
      ]
     },
     "metadata": {},
     "output_type": "display_data"
    },
    {
     "data": {
      "application/vnd.jupyter.widget-view+json": {
       "model_id": "",
       "version_major": 2,
       "version_minor": 0
      },
      "text/plain": [
       "Validation: |                                                                        | 0/? [00:00<?, ?it/s]"
      ]
     },
     "metadata": {},
     "output_type": "display_data"
    },
    {
     "name": "stderr",
     "output_type": "stream",
     "text": [
      "`Trainer.fit` stopped: `max_epochs=10` reached.\n",
      "GPU available: False, used: False\n",
      "TPU available: False, using: 0 TPU cores\n",
      "IPU available: False, using: 0 IPUs\n",
      "HPU available: False, using: 0 HPUs\n"
     ]
    },
    {
     "name": "stdout",
     "output_type": "stream",
     "text": [
      "Nonlinear Model Explained Variance (Method 4): 0.14857358932495118\n"
     ]
    },
    {
     "name": "stderr",
     "output_type": "stream",
     "text": [
      "/Users/ericjia/yeastdnnexplorer/yeastdnnexplorer/data_loaders/synthetic_data_loader.py:260: UserWarning: To copy construct from a tensor, it is recommended to use sourceTensor.clone().detach() or sourceTensor.clone().detach().requires_grad_(True), rather than torch.tensor(sourceTensor).\n",
      "  X_train, Y_train = torch.tensor(X_train, dtype=torch.float32), torch.tensor(\n",
      "/Users/ericjia/yeastdnnexplorer/yeastdnnexplorer/data_loaders/synthetic_data_loader.py:263: UserWarning: To copy construct from a tensor, it is recommended to use sourceTensor.clone().detach() or sourceTensor.clone().detach().requires_grad_(True), rather than torch.tensor(sourceTensor).\n",
      "  X_val, Y_val = torch.tensor(X_val, dtype=torch.float32), torch.tensor(\n",
      "/Users/ericjia/yeastdnnexplorer/yeastdnnexplorer/data_loaders/synthetic_data_loader.py:266: UserWarning: To copy construct from a tensor, it is recommended to use sourceTensor.clone().detach() or sourceTensor.clone().detach().requires_grad_(True), rather than torch.tensor(sourceTensor).\n",
      "  X_test, Y_test = torch.tensor(X_test, dtype=torch.float32), torch.tensor(\n",
      "\n",
      "  | Name    | Type              | Params\n",
      "----------------------------------------------\n",
      "0 | mae     | MeanAbsoluteError | 0     \n",
      "1 | SMSE    | SMSE              | 0     \n",
      "2 | linear1 | Linear            | 110   \n",
      "----------------------------------------------\n",
      "110       Trainable params\n",
      "0         Non-trainable params\n",
      "110       Total params\n",
      "0.000     Total estimated model params size (MB)\n"
     ]
    },
    {
     "data": {
      "application/vnd.jupyter.widget-view+json": {
       "model_id": "",
       "version_major": 2,
       "version_minor": 0
      },
      "text/plain": [
       "Sanity Checking: |                                                                   | 0/? [00:00<?, ?it/s]"
      ]
     },
     "metadata": {},
     "output_type": "display_data"
    },
    {
     "name": "stderr",
     "output_type": "stream",
     "text": [
      "/Users/ericjia/yeastdnnexplorer/.venv/lib/python3.11/site-packages/torch/utils/data/dataloader.py:558: UserWarning: This DataLoader will create 15 worker processes in total. Our suggested max number of worker in current system is 8 (`cpuset` is not taken into account), which is smaller than what this DataLoader is going to create. Please be aware that excessive worker creation might get DataLoader running slow or even freeze, lower the worker number to avoid potential slowness/freeze if necessary.\n",
      "  warnings.warn(_create_warning_msg(\n"
     ]
    },
    {
     "data": {
      "application/vnd.jupyter.widget-view+json": {
       "model_id": "ddf5fa17bb194601888a52f5b2175d5e",
       "version_major": 2,
       "version_minor": 0
      },
      "text/plain": [
       "Training: |                                                                          | 0/? [00:00<?, ?it/s]"
      ]
     },
     "metadata": {},
     "output_type": "display_data"
    },
    {
     "data": {
      "application/vnd.jupyter.widget-view+json": {
       "model_id": "",
       "version_major": 2,
       "version_minor": 0
      },
      "text/plain": [
       "Validation: |                                                                        | 0/? [00:00<?, ?it/s]"
      ]
     },
     "metadata": {},
     "output_type": "display_data"
    },
    {
     "data": {
      "application/vnd.jupyter.widget-view+json": {
       "model_id": "",
       "version_major": 2,
       "version_minor": 0
      },
      "text/plain": [
       "Validation: |                                                                        | 0/? [00:00<?, ?it/s]"
      ]
     },
     "metadata": {},
     "output_type": "display_data"
    },
    {
     "data": {
      "application/vnd.jupyter.widget-view+json": {
       "model_id": "",
       "version_major": 2,
       "version_minor": 0
      },
      "text/plain": [
       "Validation: |                                                                        | 0/? [00:00<?, ?it/s]"
      ]
     },
     "metadata": {},
     "output_type": "display_data"
    },
    {
     "data": {
      "application/vnd.jupyter.widget-view+json": {
       "model_id": "",
       "version_major": 2,
       "version_minor": 0
      },
      "text/plain": [
       "Validation: |                                                                        | 0/? [00:00<?, ?it/s]"
      ]
     },
     "metadata": {},
     "output_type": "display_data"
    },
    {
     "data": {
      "application/vnd.jupyter.widget-view+json": {
       "model_id": "",
       "version_major": 2,
       "version_minor": 0
      },
      "text/plain": [
       "Validation: |                                                                        | 0/? [00:00<?, ?it/s]"
      ]
     },
     "metadata": {},
     "output_type": "display_data"
    },
    {
     "data": {
      "application/vnd.jupyter.widget-view+json": {
       "model_id": "",
       "version_major": 2,
       "version_minor": 0
      },
      "text/plain": [
       "Validation: |                                                                        | 0/? [00:00<?, ?it/s]"
      ]
     },
     "metadata": {},
     "output_type": "display_data"
    },
    {
     "data": {
      "application/vnd.jupyter.widget-view+json": {
       "model_id": "",
       "version_major": 2,
       "version_minor": 0
      },
      "text/plain": [
       "Validation: |                                                                        | 0/? [00:00<?, ?it/s]"
      ]
     },
     "metadata": {},
     "output_type": "display_data"
    },
    {
     "data": {
      "application/vnd.jupyter.widget-view+json": {
       "model_id": "",
       "version_major": 2,
       "version_minor": 0
      },
      "text/plain": [
       "Validation: |                                                                        | 0/? [00:00<?, ?it/s]"
      ]
     },
     "metadata": {},
     "output_type": "display_data"
    },
    {
     "data": {
      "application/vnd.jupyter.widget-view+json": {
       "model_id": "",
       "version_major": 2,
       "version_minor": 0
      },
      "text/plain": [
       "Validation: |                                                                        | 0/? [00:00<?, ?it/s]"
      ]
     },
     "metadata": {},
     "output_type": "display_data"
    },
    {
     "data": {
      "application/vnd.jupyter.widget-view+json": {
       "model_id": "",
       "version_major": 2,
       "version_minor": 0
      },
      "text/plain": [
       "Validation: |                                                                        | 0/? [00:00<?, ?it/s]"
      ]
     },
     "metadata": {},
     "output_type": "display_data"
    },
    {
     "name": "stderr",
     "output_type": "stream",
     "text": [
      "`Trainer.fit` stopped: `max_epochs=10` reached.\n"
     ]
    },
    {
     "name": "stdout",
     "output_type": "stream",
     "text": [
      "Linear Model Explained Variance (Method 4): -0.010988634824752808\n"
     ]
    }
   ],
   "source": [
    "# Method 4\n",
    "data_module = get_data_module(\n",
    "    3.0, \n",
    "    adjustment_function=perturbation_effect_adjustment_function_with_tf_relationships_boolean_logic, \n",
    "    tf_relationships_dict=tf_relationships_dict_boolean_logic\n",
    ")\n",
    "num_tfs = sum(data_module.n_sample)\n",
    "\n",
    "# Nonlinear model\n",
    "model = get_model(num_tfs)\n",
    "trainer = get_trainer()\n",
    "trainer.fit(model, data_module)\n",
    "explained_variance = calculate_explained_variance(model, data_module)\n",
    "model_ves.append(explained_variance)\n",
    "print(\"Nonlinear Model Explained Variance (Method 4):\", explained_variance)\n",
    "#Nonlinear Model Explained Variance (Method 4): 0.12499817609786987\n",
    "\n",
    "# Linear model\n",
    "linear_model = get_linear_model(num_tfs)\n",
    "trainer = get_trainer()\n",
    "trainer.fit(linear_model, data_module)\n",
    "explained_variance_linear = calculate_explained_variance(linear_model, data_module)\n",
    "linear_model_test_ves.append(explained_variance_linear)\n",
    "print(\"Linear Model Explained Variance (Method 4):\", explained_variance_linear)\n",
    "#Linear Model Explained Variance (Method 4): -0.013428604602813721"
   ]
  },
  {
   "cell_type": "markdown",
   "metadata": {},
   "source": [
    "Once again, our customizable model outperforms the simple linear model in terms of obtaining a higher explained variance. What is interesting across all of these conditions explored so far is that the simple linear model has obtained a negative explained variance in each condition. This may be of further interest and could use more research to better determine exactly why this is occurring based on the generated data."
   ]
  },
  {
   "cell_type": "markdown",
   "metadata": {},
   "source": [
    "Now we can plot the results across each of the 4 conditions tested above to visualize how the simple linear model and the complex, customizable model perform compared to one another."
>>>>>>> 3daab84 (added docstring and typehinting to all methods, and added exposition to better explain the different conditions we use the model in. TODO: need to hide some of the output when training models or create an issue if I am unable to do so.)
   ]
  },
  {
   "cell_type": "code",
   "execution_count": 24,
   "metadata": {},
   "outputs": [
    {
     "name": "stdout",
     "output_type": "stream",
     "text": [
      "Nonlinear Model Explained Variance (Method 2): 0.2549255728721619\n",
      "Linear Model Explained Variance (Method 2): 0.07210595607757568\n"
     ]
    }
   ],
   "source": [
    "data_module = get_data_module(3.0)\n",
    "num_tfs = sum(data_module.n_sample)\n",
    "\n",
    "# Nonlinear model\n",
    "model = get_model(num_tfs)\n",
    "trainer = get_trainer()\n",
    "trainer.fit(model, data_module)\n",
    "explained_variance = calculate_explained_variance(model, data_module)\n",
    "model_ves.append(explained_variance)\n",
    "print(\"Nonlinear Model Explained Variance (Method 2):\", explained_variance)\n",
    "\n",
    "# Linear model\n",
    "linear_model = get_linear_model(num_tfs)\n",
    "trainer = get_trainer()\n",
    "trainer.fit(linear_model, data_module)\n",
    "explained_variance_linear = calculate_explained_variance(linear_model, data_module)\n",
    "linear_model_test_ves.append(explained_variance_linear)\n",
    "print(\"Linear Model Explained Variance (Method 2):\", explained_variance_linear)\n"
   ]
  },
  {
   "cell_type": "markdown",
   "metadata": {},
   "source": [
    "Once again, a similar explained variance metric was obtained using both models. However, this time, the simple linear model achieved a positive value, meaning that it was able to somewhat account for the distribution of the data. However, given the difference in explained variance scores, this once again suggests that the nonlinear, customizable model performs substantially better than the simple linear model based on the generated data with a mean adjustment of 3. It seems that the additional parameters in the nonlinear neural network can better accomodate the complexity of the data relatively better than the simple linear model."
   ]
  },
  {
   "cell_type": "markdown",
   "metadata": {},
   "source": [
    "### **3) Train models on data generated with dependent mean adjustments**\n",
    "Now we are implementing a dataset that contains dependent mean adjustments as shown below, with a mean adjustment of 3 if the TF meets the criteria defined by the dictionary."
   ]
  },
  {
   "cell_type": "code",
   "execution_count": 12,
   "metadata": {},
   "outputs": [
    {
     "name": "stdout",
     "output_type": "stream",
     "text": [
      "Nonlinear Model Explained Variance (Method 3): 0.18576881289482117\n",
      "Linear Model Explained Variance (Method 3): 0.00479055643081665\n"
     ]
    }
   ],
   "source": [
    "data_module = get_data_module(3.0, perturbation_effect_adjustment_function_with_tf_relationships, tf_relationships_dict)\n",
    "num_tfs = sum(data_module.n_sample)\n",
    "\n",
    "# Nonlinear model\n",
    "model = get_model(num_tfs)\n",
    "trainer = get_trainer()\n",
    "trainer.fit(model, data_module)\n",
    "explained_variance = calculate_explained_variance(model, data_module)\n",
    "model_ves.append(explained_variance)\n",
    "print(\"Nonlinear Model Explained Variance (Method 3):\", explained_variance)\n",
    "\n",
    "# Linear model\n",
    "linear_model = get_linear_model(num_tfs)\n",
    "trainer = get_trainer()\n",
    "trainer.fit(linear_model, data_module)\n",
    "explained_variance_linear = calculate_explained_variance(linear_model, data_module)\n",
    "linear_model_test_ves.append(explained_variance_linear)\n",
    "print(\"Linear Model Explained Variance (Method 3):\", explained_variance_linear)"
   ]
  },
  {
   "cell_type": "markdown",
   "metadata": {},
   "source": [
    "It appears once again that the customizable model obtains a more positive and larger explained variance compared to the simple linear model when implementing dependencies among TFs. It is possible that the added layer of complexity makes it more difficult for the simple linear model to make an accurate prediction. Lastly, it would be interesting to consider how the models will perform on data including more complex dependencies that involve binary relations."
   ]
  },
  {
   "cell_type": "markdown",
   "metadata": {},
   "source": [
    "### **4) Train models on data generated using the binary relations between TFs**\n",
    "Similar to the previous condition, we are implementing dependencies between TFs. However, the following dictionary contains simple logic that makes these dependencies far more complex. For example, in order for transcription factor 4 to be perturbed based on the dictionary below, both TFs 1 and 2 need to be considered perturbed in order for this TF to be perturbed as well. Adding this additional layer of complexity will be an interesting challenge: let us see how the two models perform here."
   ]
  },
  {
   "cell_type": "code",
   "execution_count": 13,
   "metadata": {},
   "outputs": [
    {
     "name": "stdout",
     "output_type": "stream",
     "text": [
      "Nonlinear Model Explained Variance (Method 4): 0.1844494581222534\n",
      "Linear Model Explained Variance (Method 4): 0.012156563997268676\n"
     ]
    }
   ],
   "source": [
    "data_module = get_data_module(\n",
    "    3.0, \n",
    "    adjustment_function=perturbation_effect_adjustment_function_with_tf_relationships_boolean_logic, \n",
    "    tf_relationships_dict=tf_relationships_dict_boolean_logic)\n",
    "num_tfs = sum(data_module.n_sample)\n",
    "\n",
    "# Nonlinear model\n",
    "model = get_model(num_tfs)\n",
    "trainer = get_trainer()\n",
    "trainer.fit(model, data_module)\n",
    "explained_variance = calculate_explained_variance(model, data_module)\n",
    "model_ves.append(explained_variance)\n",
    "print(\"Nonlinear Model Explained Variance (Method 4):\", explained_variance)\n",
    "\n",
    "# Linear model\n",
    "linear_model = get_linear_model(num_tfs)\n",
    "trainer = get_trainer()\n",
    "trainer.fit(linear_model, data_module)\n",
    "explained_variance_linear = calculate_explained_variance(linear_model, data_module)\n",
    "linear_model_test_ves.append(explained_variance_linear)\n",
    "print(\"Linear Model Explained Variance (Method 4):\", explained_variance_linear)"
   ]
  },
  {
   "cell_type": "markdown",
   "metadata": {},
   "source": [
    "Once again, our customizable model outperforms the simple linear model in terms of obtaining a higher explained variance. Surprisingly, both models acheive explained variance scores that are somewhat similar to their scores previous when implementing dependencies among TFs. This may be of further interest and could use more research to better determine exactly why this is occurring based on the generated data."
   ]
  },
  {
   "cell_type": "markdown",
   "metadata": {},
   "source": [
    "## **Visualizing the Explained Variance**"
   ]
  },
  {
   "cell_type": "markdown",
   "metadata": {},
   "source": [
    "Now we can plot the results across each of the 4 conditions tested above to visualize how the simple linear model and the nonlinear, customizable model perform compared to one another with regard to their explained variance scores."
   ]
  },
  {
   "cell_type": "code",
   "execution_count": 14,
=======
   "execution_count": 12,
>>>>>>> 9abd1df8ced976479d07c9ca30170044b95b9b3b
   "metadata": {},
   "outputs": [
    {
     "name": "stdout",
     "output_type": "stream",
     "text": [
      "Nonlinear Model Explained Variance (Method 3): 0.18576881289482117\n",
      "Linear Model Explained Variance (Method 3): 0.00479055643081665\n"
     ]
    }
   ],
   "source": [
    "data_module = get_data_module(3.0, perturbation_effect_adjustment_function_with_tf_relationships, tf_relationships_dict)\n",
    "num_tfs = sum(data_module.n_sample)\n",
    "\n",
    "# Nonlinear model\n",
    "model = get_model(num_tfs)\n",
    "trainer = get_trainer()\n",
    "trainer.fit(model, data_module)\n",
    "explained_variance = calculate_explained_variance(model, data_module)\n",
    "model_ves.append(explained_variance)\n",
    "print(\"Nonlinear Model Explained Variance (Method 3):\", explained_variance)\n",
    "\n",
    "# Linear model\n",
    "linear_model = get_linear_model(num_tfs)\n",
    "trainer = get_trainer()\n",
    "trainer.fit(linear_model, data_module)\n",
    "explained_variance_linear = calculate_explained_variance(linear_model, data_module)\n",
    "linear_model_test_ves.append(explained_variance_linear)\n",
    "print(\"Linear Model Explained Variance (Method 3):\", explained_variance_linear)"
   ]
  },
  {
   "cell_type": "markdown",
   "metadata": {},
   "source": [
    "It appears once again that the customizable model obtains a more positive and larger explained variance compared to the simple linear model when implementing dependencies among TFs. It is possible that the added layer of complexity makes it more difficult for the simple linear model to make an accurate prediction. Lastly, it would be interesting to consider how the models will perform on data including more complex dependencies that involve binary relations."
   ]
  },
  {
   "cell_type": "markdown",
   "metadata": {},
   "source": [
    "### **4) Train models on data generated using the binary relations between TFs**\n",
    "Similar to the previous condition, we are implementing dependencies between TFs. However, the following dictionary contains simple logic that makes these dependencies far more complex. For example, in order for transcription factor 4 to be perturbed based on the dictionary below, both TFs 1 and 2 need to be considered perturbed in order for this TF to be perturbed as well. Adding this additional layer of complexity will be an interesting challenge: let us see how the two models perform here."
   ]
  },
  {
   "cell_type": "code",
   "execution_count": 13,
   "metadata": {},
   "outputs": [
    {
     "name": "stdout",
     "output_type": "stream",
     "text": [
      "Nonlinear Model Explained Variance (Method 4): 0.1844494581222534\n",
      "Linear Model Explained Variance (Method 4): 0.012156563997268676\n"
     ]
    }
   ],
   "source": [
    "data_module = get_data_module(\n",
    "    3.0, \n",
    "    adjustment_function=perturbation_effect_adjustment_function_with_tf_relationships_boolean_logic, \n",
    "    tf_relationships_dict=tf_relationships_dict_boolean_logic)\n",
    "num_tfs = sum(data_module.n_sample)\n",
    "\n",
    "# Nonlinear model\n",
    "model = get_model(num_tfs)\n",
    "trainer = get_trainer()\n",
    "trainer.fit(model, data_module)\n",
    "explained_variance = calculate_explained_variance(model, data_module)\n",
    "model_ves.append(explained_variance)\n",
    "print(\"Nonlinear Model Explained Variance (Method 4):\", explained_variance)\n",
    "\n",
    "# Linear model\n",
    "linear_model = get_linear_model(num_tfs)\n",
    "trainer = get_trainer()\n",
    "trainer.fit(linear_model, data_module)\n",
    "explained_variance_linear = calculate_explained_variance(linear_model, data_module)\n",
    "linear_model_test_ves.append(explained_variance_linear)\n",
    "print(\"Linear Model Explained Variance (Method 4):\", explained_variance_linear)"
   ]
  },
  {
   "cell_type": "markdown",
   "metadata": {},
   "source": [
    "Once again, our customizable model outperforms the simple linear model in terms of obtaining a higher explained variance. Surprisingly, both models acheive explained variance scores that are somewhat similar to their scores previous when implementing dependencies among TFs. This may be of further interest and could use more research to better determine exactly why this is occurring based on the generated data."
   ]
  },
  {
   "cell_type": "markdown",
   "metadata": {},
   "source": [
    "## **Visualizing the Explained Variance**"
   ]
  },
  {
   "cell_type": "markdown",
   "metadata": {},
   "source": [
    "Now we can plot the results across each of the 4 conditions tested above to visualize how the simple linear model and the nonlinear, customizable model perform compared to one another with regard to their explained variance scores."
   ]
  },
  {
   "cell_type": "code",
   "execution_count": 14,
   "metadata": {},
   "outputs": [
    {
     "name": "stderr",
     "output_type": "stream",
     "text": [
      "GPU available: False, used: False\n",
      "TPU available: False, using: 0 TPU cores\n",
      "IPU available: False, using: 0 IPUs\n",
      "HPU available: False, using: 0 HPUs\n",
      "/Users/ericjia/yeastdnnexplorer/yeastdnnexplorer/data_loaders/synthetic_data_loader.py:260: UserWarning: To copy construct from a tensor, it is recommended to use sourceTensor.clone().detach() or sourceTensor.clone().detach().requires_grad_(True), rather than torch.tensor(sourceTensor).\n",
      "  X_train, Y_train = torch.tensor(X_train, dtype=torch.float32), torch.tensor(\n",
      "/Users/ericjia/yeastdnnexplorer/yeastdnnexplorer/data_loaders/synthetic_data_loader.py:263: UserWarning: To copy construct from a tensor, it is recommended to use sourceTensor.clone().detach() or sourceTensor.clone().detach().requires_grad_(True), rather than torch.tensor(sourceTensor).\n",
      "  X_val, Y_val = torch.tensor(X_val, dtype=torch.float32), torch.tensor(\n",
      "/Users/ericjia/yeastdnnexplorer/yeastdnnexplorer/data_loaders/synthetic_data_loader.py:266: UserWarning: To copy construct from a tensor, it is recommended to use sourceTensor.clone().detach() or sourceTensor.clone().detach().requires_grad_(True), rather than torch.tensor(sourceTensor).\n",
      "  X_test, Y_test = torch.tensor(X_test, dtype=torch.float32), torch.tensor(\n",
      "\n",
      "  | Name          | Type              | Params\n",
      "----------------------------------------------------\n",
      "0 | activation    | LeakyReLU         | 0     \n",
      "1 | input_layer   | Linear            | 704   \n",
      "2 | hidden_layers | ModuleList        | 2.1 K \n",
      "3 | output_layer  | Linear            | 330   \n",
      "4 | dropout       | Dropout           | 0     \n",
      "5 | mae           | MeanAbsoluteError | 0     \n",
      "6 | SMSE          | SMSE              | 0     \n",
      "----------------------------------------------------\n",
      "3.1 K     Trainable params\n",
      "0         Non-trainable params\n",
      "3.1 K     Total params\n",
      "0.012     Total estimated model params size (MB)\n"
     ]
    },
    {
     "data": {
<<<<<<< HEAD
<<<<<<< HEAD
      "image/png": "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",
=======
=======
      "image/png": "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",
>>>>>>> 3daab84 (added docstring and typehinting to all methods, and added exposition to better explain the different conditions we use the model in. TODO: need to hide some of the output when training models or create an issue if I am unable to do so.)
=======
      "image/png": "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",
>>>>>>> 9abd1df8ced976479d07c9ca30170044b95b9b3b
      "text/plain": [
       "Sanity Checking: |                                                                                            …"
      ]
     },
     "metadata": {},
     "output_type": "display_data"
    }
   ],
   "source": [
    "data_gen_methods = [\"No Mean Adjustment\", \"Dependent Mean Adjustment\", \"TF Dependent Mean Adjustment\", \"TF Dependent Mean Adjust with Boolean Logic\"]\n",
    "plt.figure(figsize=(10, 6))\n",
    "plt.scatter(data_gen_methods, model_ves, color='blue')\n",
    "plt.scatter(data_gen_methods, linear_model_test_ves, color='orange')\n",
    "plt.title('Model VE Comparison (bound mean = 3.0)')\n",
    "plt.xlabel('Model')\n",
    "plt.ylabel('Variance Explained')\n",
    "plt.grid(True)\n",
    "plt.xticks(rotation=45, ha=\"right\")\n",
    "plt.legend(['Complex (Customizable) Model', 'Linear Model'])\n",
    "plt.tight_layout()\n",
    "plt.show()"
   ]
  },
  {
   "cell_type": "markdown",
<<<<<<< HEAD
<<<<<<< HEAD
=======
>>>>>>> 9abd1df8ced976479d07c9ca30170044b95b9b3b
   "metadata": {},
   "source": [
    "The x-axis labels the method in which the data was generated according to the 4 options above. The y-axis represents the corresponding variance explained attained by these models. Each point represents the variance explained achieved after generating the data based on the x-axis, and the color of the point represents which model architecture was trained on the data resulting in the specificed explained variance. Now, we can clearly see that across the 4 conditions, the nonlinear, customizable model acheives a significantly higher positive explained variance compared to the simple linear model, which is good because it helps to confirm that the nonlinear model we are using is able to train on the data and better account for the distribution of the data, resulting in a higher explained variance compared to the simple linear model. "
   ]
<<<<<<< HEAD
=======
   "metadata": {},
   "source": [
    "Now, we can clearly see that across the 4 conditions, the customizable model acheives a significantly higher positive explained variance compared to the simple linear model, which is good for us because it helps to confirm that the customizable model we are using is able to better utilize the data to produce accurate predictions, resulting in a higher explained variance compared to the simple linear model. "
   ]
  },
  {
   "cell_type": "markdown",
   "metadata": {},
   "source": []
>>>>>>> 3daab84 (added docstring and typehinting to all methods, and added exposition to better explain the different conditions we use the model in. TODO: need to hide some of the output when training models or create an issue if I am unable to do so.)
=======
>>>>>>> 9abd1df8ced976479d07c9ca30170044b95b9b3b
  }
 ],
 "metadata": {
  "kernelspec": {
   "display_name": "Python 3 (ipykernel)",
   "language": "python",
   "name": "python3"
  },
  "language_info": {
   "codemirror_mode": {
    "name": "ipython",
    "version": 3
   },
   "file_extension": ".py",
   "mimetype": "text/x-python",
   "name": "python",
   "nbconvert_exporter": "python",
   "pygments_lexer": "ipython3",
   "version": "3.11.1"
  }
 },
 "nbformat": 4,
 "nbformat_minor": 4
}
